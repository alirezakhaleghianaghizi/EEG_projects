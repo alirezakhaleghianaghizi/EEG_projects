{
  "nbformat": 4,
  "nbformat_minor": 0,
  "metadata": {
    "colab": {
      "provenance": [],
      "include_colab_link": true
    },
    "kernelspec": {
      "name": "python3",
      "display_name": "Python 3"
    },
    "language_info": {
      "name": "python"
    }
  },
  "cells": [
    {
      "cell_type": "markdown",
      "metadata": {
        "id": "view-in-github",
        "colab_type": "text"
      },
      "source": [
        "<a href=\"https://colab.research.google.com/github/alirezakhaleghianaghizi/MLC/blob/main/Untitled4.ipynb\" target=\"_parent\"><img src=\"https://colab.research.google.com/assets/colab-badge.svg\" alt=\"Open In Colab\"/></a>"
      ]
    },
    {
      "cell_type": "markdown",
      "source": [
        "# unsupervised learning"
      ],
      "metadata": {
        "id": "G5OBcm8EYWPK"
      }
    },
    {
      "cell_type": "markdown",
      "source": [
        "### kmeans"
      ],
      "metadata": {
        "id": "u9CHRNyUYicA"
      }
    },
    {
      "cell_type": "markdown",
      "source": [
        "خوشه بندی دیتا یکی از روش های یادگیری ماشین در مواقعی است که ما برچسبی از دیتا های موجود نداریم مانند طبقه بندی سیگنال های مغزی."
      ],
      "metadata": {
        "id": "dS5wu4C9Y8sI"
      }
    },
    {
      "cell_type": "markdown",
      "source": [
        "<div dir=rtl>\n",
        "در رابطه با مدل یادگیری Kmeans ,Kmode تحقیق کنید و الگوریتم کاری آن ها را شرح دهید.\n",
        "\n",
        "هر کدام از این مدل ها در چه مواردی به کاربرد دارند."
      ],
      "metadata": {
        "id": "qx8sLUjVg65y"
      }
    },
    {
      "cell_type": "markdown",
      "source": [
        "# پاسخ\n",
        "<div dir=rtl>\n",
        "مدل kmean, kmode  هر دو مدل ها جزو مدل های unsupervised learning  میباشند\n",
        "\n",
        "که در این روش ها با توجه به تعداد کلاستر ها یک سری نقاط به عنوان مراکز دسته ها به صورت  رندوم انتخاب میشوند و خوشه بندی دیتا ها با توجه به فاصله از این نقاط حساب میشود و پس از دسته بندی اولیه دوباره مرکز خوشه ها محاسبه شده و این دو مرحله تا جایی ادامه دارد که مراکز دسته ها دیگر تغییر نکند .\n",
        "\n",
        "تفاوت مدل kmean و kmode در این میباشدکه روش اول برای دیتا هایی که مقادیر پیوسته به خود میگیرند اسستفاده میشود ولی الگوریتم دوم kmode برای دیتا هایی که مقادیر گسسته دارند استفاده میشود و به جای میانگین گرفتن از دیتا ها مد دیتا ها را مرکز دسته قرار میدهد"
      ],
      "metadata": {
        "id": "age5mOUhhIe_"
      }
    },
    {
      "cell_type": "markdown",
      "source": [
        "<div dir=rtl>\n",
        "ابتدا داده های\n",
        "mnist\n",
        "را لود کنید و برچسب داده ها را از کل داده ها جدا کنید."
      ],
      "metadata": {
        "id": "6XYD8EcXZb8y"
      }
    },
    {
      "cell_type": "code",
      "execution_count": null,
      "metadata": {
        "id": "MSHcPP9y7ryQ"
      },
      "outputs": [],
      "source": [
        "# Importing the dataset from keras\n",
        "#here import all library you need\n",
        "import numpy as np\n",
        "import pandas as pd\n",
        "import matplotlib.pyplot as plt\n",
        "from keras.datasets import mnist"
      ]
    },
    {
      "cell_type": "code",
      "source": [
        "#load the mnist data set\n",
        "(x_train, y_train), (x_test, y_test) = mnist.load_data()"
      ],
      "metadata": {
        "id": "1Rklt30yaB9K"
      },
      "execution_count": null,
      "outputs": []
    },
    {
      "cell_type": "code",
      "source": [
        "# Checking the shape\n",
        "print(x_train.shape)\n",
        "print(x_test.shape)\n",
        "print(y_train.shape)\n",
        "print(y_test.shape)"
      ],
      "metadata": {
        "colab": {
          "base_uri": "https://localhost:8080/"
        },
        "id": "VPl8_Unq73mL",
        "outputId": "aeb9700c-02c6-4441-f485-a6b14a610ed2"
      },
      "execution_count": null,
      "outputs": [
        {
          "output_type": "stream",
          "name": "stdout",
          "text": [
            "(60000, 28, 28)\n",
            "(10000, 28, 28)\n",
            "(60000,)\n",
            "(10000,)\n"
          ]
        }
      ]
    },
    {
      "cell_type": "code",
      "source": [
        "# conver the data type to float for normalization and then normalize the data to [0,1]\n",
        "# Conversion to float\n",
        "x_train = x_train.astype('float32')\n",
        "x_test = x_test.astype('float32')\n",
        "# Normalization\n",
        "max_train=x_train.max()\n",
        "max_test=x_test.max()\n",
        "x_train = x_train/max_train\n",
        "x_test = x_test/max_test"
      ],
      "metadata": {
        "id": "ZABeXC3L7_mr"
      },
      "execution_count": null,
      "outputs": []
    },
    {
      "cell_type": "code",
      "source": [
        "# Checking the minimum and maximum values of x_train\n",
        "print(x_train.min())\n",
        "print(x_train.max())"
      ],
      "metadata": {
        "colab": {
          "base_uri": "https://localhost:8080/"
        },
        "id": "LZ9ri9Y08BMN",
        "outputId": "27f8c1ab-f192-45c3-8c53-5684faa29163"
      },
      "execution_count": null,
      "outputs": [
        {
          "output_type": "stream",
          "name": "stdout",
          "text": [
            "0.0\n",
            "1.0\n"
          ]
        }
      ]
    },
    {
      "cell_type": "code",
      "source": [
        "# Reshaping input data\n",
        "X_train = x_train.reshape(len(x_train),-1)\n",
        "X_test = x_test.reshape(len(x_test),-1)"
      ],
      "metadata": {
        "id": "HrFyK-Fr8Cuk"
      },
      "execution_count": null,
      "outputs": []
    },
    {
      "cell_type": "code",
      "source": [
        "# initializing the pca\n",
        "# implement pca on our data with 2 component\n",
        "from sklearn import decomposition\n",
        "import seaborn as sn\n",
        "pca = decomposition.PCA()\n",
        "pca.n_components = 2\n",
        "# select 2 components for 2-D visualization\n",
        "pca_data = pca.fit_transform(X_train)\n",
        "pcaX_tain=pca_data\n",
        "##plot the 2-d projects of simple data with lable\n",
        "print(\"shape of pca_reduced.shape = \", pca_data.shape)\n",
        "pca_data = np.vstack((pca_data.T, y_train)).T\n",
        "pca_df = pd.DataFrame(data=pca_data, columns=(\"1st_principal\", \"2nd_principal\", \"label\"))\n",
        "sn.FacetGrid(pca_df, hue=\"label\").map(plt.scatter, '1st_principal', '2nd_principal').add_legend()\n",
        "plt.show()"
      ],
      "metadata": {
        "colab": {
          "base_uri": "https://localhost:8080/",
          "height": 324
        },
        "id": "2mmNZbV4uPG9",
        "outputId": "0019940e-d17d-47ed-b732-cee9b11736cf"
      },
      "execution_count": null,
      "outputs": [
        {
          "output_type": "stream",
          "name": "stdout",
          "text": [
            "shape of pca_reduced.shape =  (60000, 2)\n"
          ]
        },
        {
          "output_type": "display_data",
          "data": {
            "text/plain": [
              "<Figure size 372x300 with 1 Axes>"
            ],
            "image/png": "[encoded data removed]"
          },
          "metadata": {}
        }
      ]
    },
    {
      "cell_type": "markdown",
      "source": [
        "<div dir=rtl>\n",
        "\n",
        "حال که دیتا آماده لرن کردن میباشد با استفاده از کتابخانه\n",
        "sklearn\n",
        "مدل مدنظر را لرن کنید و خوشه بندی داده ها را انجام دهید"
      ],
      "metadata": {
        "id": "fiAvAj9HbweR"
      }
    },
    {
      "cell_type": "code",
      "source": [
        "from sklearn.cluster import KMeans\n",
        "total_clusters = len(np.unique(y_test))\n",
        "# Initialize the K-Means model\n",
        "kmeans = KMeans(n_clusters = total_clusters)\n",
        "# Fitting the model to training set\n",
        "kmeans.fit(X_train)"
      ],
      "metadata": {
        "colab": {
          "base_uri": "https://localhost:8080/",
          "height": 109
        },
        "id": "CYPssPWq8FuD",
        "outputId": "9e7a192a-14c8-4012-f347-ad27add60875"
      },
      "execution_count": null,
      "outputs": [
        {
          "output_type": "stream",
          "name": "stderr",
          "text": [
            "/usr/local/lib/python3.10/dist-packages/sklearn/cluster/_kmeans.py:870: FutureWarning: The default value of `n_init` will change from 10 to 'auto' in 1.4. Set the value of `n_init` explicitly to suppress the warning\n",
            "  warnings.warn(\n"
          ]
        },
        {
          "output_type": "execute_result",
          "data": {
            "text/plain": [
              "KMeans(n_clusters=10)"
            ],
            "text/html": [
              "<style>#sk-container-id-1 {color: black;background-color: white;}#sk-container-id-1 pre{padding: 0;}#sk-container-id-1 div.sk-toggleable {background-color: white;}#sk-container-id-1 label.sk-toggleable__label {cursor: pointer;display: block;width: 100%;margin-bottom: 0;padding: 0.3em;box-sizing: border-box;text-align: center;}#sk-container-id-1 label.sk-toggleable__label-arrow:before {content: \"▸\";float: left;margin-right: 0.25em;color: #696969;}#sk-container-id-1 label.sk-toggleable__label-arrow:hover:before {color: black;}#sk-container-id-1 div.sk-estimator:hover label.sk-toggleable__label-arrow:before {color: black;}#sk-container-id-1 div.sk-toggleable__content {max-height: 0;max-width: 0;overflow: hidden;text-align: left;background-color: #f0f8ff;}#sk-container-id-1 div.sk-toggleable__content pre {margin: 0.2em;color: black;border-radius: 0.25em;background-color: #f0f8ff;}#sk-container-id-1 input.sk-toggleable__control:checked~div.sk-toggleable__content {max-height: 200px;max-width: 100%;overflow: auto;}#sk-container-id-1 input.sk-toggleable__control:checked~label.sk-toggleable__label-arrow:before {content: \"▾\";}#sk-container-id-1 div.sk-estimator input.sk-toggleable__control:checked~label.sk-toggleable__label {background-color: #d4ebff;}#sk-container-id-1 div.sk-label input.sk-toggleable__control:checked~label.sk-toggleable__label {background-color: #d4ebff;}#sk-container-id-1 input.sk-hidden--visually {border: 0;clip: rect(1px 1px 1px 1px);clip: rect(1px, 1px, 1px, 1px);height: 1px;margin: -1px;overflow: hidden;padding: 0;position: absolute;width: 1px;}#sk-container-id-1 div.sk-estimator {font-family: monospace;background-color: #f0f8ff;border: 1px dotted black;border-radius: 0.25em;box-sizing: border-box;margin-bottom: 0.5em;}#sk-container-id-1 div.sk-estimator:hover {background-color: #d4ebff;}#sk-container-id-1 div.sk-parallel-item::after {content: \"\";width: 100%;border-bottom: 1px solid gray;flex-grow: 1;}#sk-container-id-1 div.sk-label:hover label.sk-toggleable__label {background-color: #d4ebff;}#sk-container-id-1 div.sk-serial::before {content: \"\";position: absolute;border-left: 1px solid gray;box-sizing: border-box;top: 0;bottom: 0;left: 50%;z-index: 0;}#sk-container-id-1 div.sk-serial {display: flex;flex-direction: column;align-items: center;background-color: white;padding-right: 0.2em;padding-left: 0.2em;position: relative;}#sk-container-id-1 div.sk-item {position: relative;z-index: 1;}#sk-container-id-1 div.sk-parallel {display: flex;align-items: stretch;justify-content: center;background-color: white;position: relative;}#sk-container-id-1 div.sk-item::before, #sk-container-id-1 div.sk-parallel-item::before {content: \"\";position: absolute;border-left: 1px solid gray;box-sizing: border-box;top: 0;bottom: 0;left: 50%;z-index: -1;}#sk-container-id-1 div.sk-parallel-item {display: flex;flex-direction: column;z-index: 1;position: relative;background-color: white;}#sk-container-id-1 div.sk-parallel-item:first-child::after {align-self: flex-end;width: 50%;}#sk-container-id-1 div.sk-parallel-item:last-child::after {align-self: flex-start;width: 50%;}#sk-container-id-1 div.sk-parallel-item:only-child::after {width: 0;}#sk-container-id-1 div.sk-dashed-wrapped {border: 1px dashed gray;margin: 0 0.4em 0.5em 0.4em;box-sizing: border-box;padding-bottom: 0.4em;background-color: white;}#sk-container-id-1 div.sk-label label {font-family: monospace;font-weight: bold;display: inline-block;line-height: 1.2em;}#sk-container-id-1 div.sk-label-container {text-align: center;}#sk-container-id-1 div.sk-container {/* jupyter's `normalize.less` sets `[hidden] { display: none; }` but bootstrap.min.css set `[hidden] { display: none !important; }` so we also need the `!important` here to be able to override the default hidden behavior on the sphinx rendered scikit-learn.org. See: https://github.com/scikit-learn/scikit-learn/issues/21755 */display: inline-block !important;position: relative;}#sk-container-id-1 div.sk-text-repr-fallback {display: none;}</style><div id=\"sk-container-id-1\" class=\"sk-top-container\"><div class=\"sk-text-repr-fallback\"><pre>KMeans(n_clusters=10)</pre><b>In a Jupyter environment, please rerun this cell to show the HTML representation or trust the notebook. <br />On GitHub, the HTML representation is unable to render, please try loading this page with nbviewer.org.</b></div><div class=\"sk-container\" hidden><div class=\"sk-item\"><div class=\"sk-estimator sk-toggleable\"><input class=\"sk-toggleable__control sk-hidden--visually\" id=\"sk-estimator-id-1\" type=\"checkbox\" checked><label for=\"sk-estimator-id-1\" class=\"sk-toggleable__label sk-toggleable__label-arrow\">KMeans</label><div class=\"sk-toggleable__content\"><pre>KMeans(n_clusters=10)</pre></div></div></div></div></div>"
            ]
          },
          "metadata": {},
          "execution_count": 14
        }
      ]
    },
    {
      "cell_type": "markdown",
      "source": [
        "<div dir=rtl>\n",
        "توجه کنید که مدل یادگیری  kmeans  یک مدل unsupervised میباشد و برچسب های خروجی که این مدل به ما میدهد برچسب هایی است که به کلاستر های مختلف داده شده است و لزوما همان برچسب های واقعی نمیباشد .\n",
        "در نتیجه باید نظیر برچسبی که مدل به ما میدهد را در دیتا های واقعی بیابیم"
      ],
      "metadata": {
        "id": "PwdpCz3Jc11R"
      }
    },
    {
      "cell_type": "markdown",
      "source": [
        "<div dir=rtl>\n",
        "تابع get_label2cluster_mapper در زیر کامل کنید.\n",
        " این تابع برچسب های مدل و برچس های واقعی داده را میگیرد و در خروجی برای هر کلاستر برچسب واقعی که بیشترین همخوانی را دارد نسبت میدهد."
      ],
      "metadata": {
        "id": "6q6or1l-dq_x"
      }
    },
    {
      "cell_type": "code",
      "source": [
        "def get_label2cluster_mapper(kmeans, true_lable):\n",
        "    #assign each cluster most probability lable\n",
        "    #inputs kmeans model , true_lable\n",
        "    label2cluster = {}\n",
        "    for i in range(kmeans.n_clusters):\n",
        "        labels = []\n",
        "        indeces = np.where(kmeans.labels_ == i)\n",
        "        labels.append(true_lable[indeces])\n",
        "        #labels = true_lable[indeces]\n",
        "        #hist = (np.bincount(np.squeeze(labels)))\n",
        "\n",
        "        if len(labels[0]) == 1:\n",
        "            hist = np.bincount(labels[0])\n",
        "        else:\n",
        "            hist = np.bincount(np.squeeze(labels))\n",
        "            #print(hist)\n",
        "\n",
        "        if np.argmax(hist) in label2cluster:\n",
        "            label2cluster[np.argmax(hist)].append(i)\n",
        "        else:\n",
        "            label2cluster[np.argmax(hist)] = [i]\n",
        "\n",
        "    return label2cluster"
      ],
      "metadata": {
        "id": "a89ekxcue8lM"
      },
      "execution_count": null,
      "outputs": []
    },
    {
      "cell_type": "markdown",
      "source": [
        "حال که یک مپینگی از کلاست ها و برچسب نظیرشان پیدا کردید برچسب هر دیتا را پیش بینی کنید."
      ],
      "metadata": {
        "id": "ozT7NC0fglQK"
      }
    },
    {
      "cell_type": "code",
      "source": [
        "def convert_cluster_to_label(clusters, mapper):\n",
        "    preds = np.zeros(len(clusters)).astype(np.uint8)\n",
        "    for i,cl in enumerate(clusters):\n",
        "        for k,v in mapper.items():\n",
        "            if cl in v: preds[i] = k\n",
        "    return preds\n",
        "\n",
        "label2cluster = get_label2cluster_mapper(kmeans, y_train)\n",
        "train_cl = kmeans.predict(X_train)\n",
        "preds = convert_cluster_to_label(train_cl, label2cluster)\n",
        "print(label2cluster)\n",
        "print(preds[:20])\n",
        "print(y_train[:20])\n",
        "print(f\"Accuracy : {sum(preds == y_train)/len(preds) * 100}%\")"
      ],
      "metadata": {
        "colab": {
          "base_uri": "https://localhost:8080/"
        },
        "id": "HczV6K-m_-ul",
        "outputId": "349ad5a2-1e6e-40cf-e777-68b41c366f29"
      },
      "execution_count": null,
      "outputs": [
        {
          "output_type": "stream",
          "name": "stdout",
          "text": [
            "{6: [0], 2: [1], 7: [2], 8: [3], 0: [4], 1: [5, 8], 3: [6], 5: [7], 4: [9]}\n",
            "[8 0 4 1 7 2 1 8 1 7 3 1 3 6 1 7 2 8 6 7]\n",
            "[5 0 4 1 9 2 1 3 1 4 3 5 3 6 1 7 2 8 6 9]\n",
            "Accuracy : 58.27833333333333%\n"
          ]
        }
      ]
    },
    {
      "cell_type": "markdown",
      "source": [
        "<div dir=rtl>\n",
        "در مدل یادگیری kmeans دسته بندی ما فقط با توجه به میانگین داده ها انجام گرفت و پراکندگی داده ها حول این نقاط مورد توجه نبود،\n",
        "guassian mixture model یکی از الگوریتم های خوشه بندی دیتا میباشد که علاوه بر میانگین داده ها واریانس آن ها را نیز درنظر میگیرد."
      ],
      "metadata": {
        "id": "NKRwUzXWiwr8"
      }
    },
    {
      "cell_type": "markdown",
      "source": [
        "<div dir=rtl>\n",
        "در زیر قصد داریم داده های پس پردازش شده را با مدل gmm لرن کنیم و دقت مدل را در این حالت بسنجیم."
      ],
      "metadata": {
        "id": "MQcHhY_kklMz"
      }
    },
    {
      "cell_type": "code",
      "source": [
        "#Gaussian Mixture Model\n",
        "#make model with 10 cluster\n",
        "from sklearn.mixture import GaussianMixture\n",
        "gmm = GaussianMixture(n_components=10)\n",
        "gmm.fit(X_train)\n",
        "labelsGMM=gmm.predict(X_train)"
      ],
      "metadata": {
        "id": "QDDdnKa5qKTR"
      },
      "execution_count": null,
      "outputs": []
    },
    {
      "cell_type": "markdown",
      "source": [
        "<div dir=rtl>\n",
        "\n",
        "حال باید همانند مدل kmeans برچسب متناظر هر کلاستر را پیدا کنیم\n",
        "\n",
        "تابع infer_cluster_labels_GMM را کامل کنید که برچسب هر کلاستر را خروجی بدهد."
      ],
      "metadata": {
        "id": "vjkPo4oEqUIJ"
      }
    },
    {
      "cell_type": "code",
      "source": [
        "def infer_cluster_labels_GMM(gmm, actual_labels):\n",
        "    inferred_labels = {}\n",
        "    for i in range(gmm.n_components):\n",
        "        labels = []\n",
        "        index = np.where(labelsGMM == i)\n",
        "        labels.append(actual_labels[index])\n",
        "        if len(labels[0]) == 1:\n",
        "            counts = np.bincount(labels[0])\n",
        "        else:\n",
        "            counts = np.bincount(np.squeeze(labels))\n",
        "        if np.argmax(counts) in inferred_labels:\n",
        "            inferred_labels[np.argmax(counts)].append(i)\n",
        "        else:\n",
        "            inferred_labels[np.argmax(counts)] = [i]\n",
        "    return inferred_labels\n"
      ],
      "metadata": {
        "id": "bAO6mxVMRB5U"
      },
      "execution_count": null,
      "outputs": []
    },
    {
      "cell_type": "markdown",
      "source": [
        "حال که برچسب هر کلاستر را داریم دقت مدل را اندازه گیری کنید."
      ],
      "metadata": {
        "id": "Zaxa7lelqzXp"
      }
    },
    {
      "cell_type": "code",
      "source": [
        "def infer_data_labels_GMM(X_labels, cluster_labels):\n",
        "    predicted_labels = np.zeros(len(X_labels)).astype(np.uint8)\n",
        "    for i, cluster in enumerate(X_labels):\n",
        "        for key, value in cluster_labels.items():\n",
        "            if cluster in value:\n",
        "                predicted_labels[i] = key\n",
        "    return predicted_labels\n",
        "cluster_labels_GMM = infer_cluster_labels_GMM(gmm, y_train)\n",
        "predicted_Y_GMM = infer_data_labels_GMM(labelsGMM, cluster_labels_GMM)\n",
        "print('Gaussian Mixture Model Clustering Accuracy: {}\\n'.format(metrics.accuracy_score(y_train, predicted_Y_GMM)))\n",
        "#confusionmatrix_GMM = confusion_matrix(y_test, labelsGMM)\n",
        "#print(confusionmatrix_GMM)"
      ],
      "metadata": {
        "colab": {
          "base_uri": "https://localhost:8080/",
          "height": 245
        },
        "id": "TEZxAI_Rqy1P",
        "outputId": "bc2059d3-ecf5-47a7-d764-cb558111d7af"
      },
      "execution_count": null,
      "outputs": [
        {
          "output_type": "error",
          "ename": "NameError",
          "evalue": "ignored",
          "traceback": [
            "\u001b[0;31m---------------------------------------------------------------------------\u001b[0m",
            "\u001b[0;31mNameError\u001b[0m                                 Traceback (most recent call last)",
            "\u001b[0;32m<ipython-input-31-b1160c9e209e>\u001b[0m in \u001b[0;36m<cell line: 10>\u001b[0;34m()\u001b[0m\n\u001b[1;32m      8\u001b[0m \u001b[0mcluster_labels_GMM\u001b[0m \u001b[0;34m=\u001b[0m \u001b[0minfer_cluster_labels_GMM\u001b[0m\u001b[0;34m(\u001b[0m\u001b[0mgmm\u001b[0m\u001b[0;34m,\u001b[0m \u001b[0my_train\u001b[0m\u001b[0;34m)\u001b[0m\u001b[0;34m\u001b[0m\u001b[0;34m\u001b[0m\u001b[0m\n\u001b[1;32m      9\u001b[0m \u001b[0mpredicted_Y_GMM\u001b[0m \u001b[0;34m=\u001b[0m \u001b[0minfer_data_labels_GMM\u001b[0m\u001b[0;34m(\u001b[0m\u001b[0mlabelsGMM\u001b[0m\u001b[0;34m,\u001b[0m \u001b[0mcluster_labels_GMM\u001b[0m\u001b[0;34m)\u001b[0m\u001b[0;34m\u001b[0m\u001b[0;34m\u001b[0m\u001b[0m\n\u001b[0;32m---> 10\u001b[0;31m \u001b[0mprint\u001b[0m\u001b[0;34m(\u001b[0m\u001b[0;34m'Gaussian Mixture Model Clustering Accuracy: {}\\n'\u001b[0m\u001b[0;34m.\u001b[0m\u001b[0mformat\u001b[0m\u001b[0;34m(\u001b[0m\u001b[0mmetrics\u001b[0m\u001b[0;34m.\u001b[0m\u001b[0maccuracy_score\u001b[0m\u001b[0;34m(\u001b[0m\u001b[0my_train\u001b[0m\u001b[0;34m,\u001b[0m \u001b[0mpredicted_Y_GMM\u001b[0m\u001b[0;34m)\u001b[0m\u001b[0;34m)\u001b[0m\u001b[0;34m)\u001b[0m\u001b[0;34m\u001b[0m\u001b[0;34m\u001b[0m\u001b[0m\n\u001b[0m\u001b[1;32m     11\u001b[0m \u001b[0;31m#confusionmatrix_GMM = confusion_matrix(y_test, labelsGMM)\u001b[0m\u001b[0;34m\u001b[0m\u001b[0;34m\u001b[0m\u001b[0m\n\u001b[1;32m     12\u001b[0m \u001b[0;31m#print(confusionmatrix_GMM)\u001b[0m\u001b[0;34m\u001b[0m\u001b[0;34m\u001b[0m\u001b[0m\n",
            "\u001b[0;31mNameError\u001b[0m: name 'metrics' is not defined"
          ]
        }
      ]
    }
  ]
}