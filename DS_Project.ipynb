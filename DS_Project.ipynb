{
  "cells": [
    {
      "cell_type": "markdown",
      "metadata": {
        "id": "view-in-github",
        "colab_type": "text"
      },
      "source": [
        "<a href=\"https://colab.research.google.com/github/alirezakhaleghianaghizi/MLC/blob/main/DS_Project.ipynb\" target=\"_parent\"><img src=\"https://colab.research.google.com/assets/colab-badge.svg\" alt=\"Open In Colab\"/></a>"
      ]
    },
    {
      "cell_type": "markdown",
      "id": "aa2658a4",
      "metadata": {
        "id": "aa2658a4"
      },
      "source": [
        "<div style=\"text-align:center;line-height:300%;\">\n",
        "<font face=\"Tahoma\" size=7>\n",
        "<h4>Data Science Project</h4>\n",
        "  </font>\n",
        "</div>\n",
        "\n",
        "\n",
        "<div style=\"text-align:center;direction:ltr;line-height:300%;\">\n",
        "<font face=\"Tahoma\" size=3>\n",
        "<h1> AIVengers, summer 2023  </h1>\n",
        "  </font>\n",
        "</div>\n",
        "<div style=\"text-align:center;direction:ltr;line-height:300%;\">\n",
        "<font face=\"Tahoma\" size=3>\n",
        "<h1> Olympics Athletes  </h1>\n",
        "  </font>\n",
        "</div>"
      ]
    },
    {
      "cell_type": "markdown",
      "id": "4f982eff",
      "metadata": {
        "id": "4f982eff"
      },
      "source": [
        "# Introduction"
      ]
    },
    {
      "cell_type": "markdown",
      "id": "eee7de28",
      "metadata": {
        "id": "eee7de28"
      },
      "source": [
        "### Enter your information & RUN the cell!"
      ]
    },
    {
      "cell_type": "code",
      "execution_count": 1,
      "id": "8bcffabb",
      "metadata": {
        "scrolled": true,
        "colab": {
          "base_uri": "https://localhost:8080/"
        },
        "id": "8bcffabb",
        "outputId": "306d0990-29bc-49f2-e412-21d6ec7cc68d"
      },
      "outputs": [
        {
          "output_type": "stream",
          "name": "stdout",
          "text": [
            "your name: alireza khaleghi\n",
            "your telegram id: @mehrdadesheshom\n"
          ]
        }
      ],
      "source": [
        "name = \"alireza khaleghi\"\n",
        "telegram_id =  \"@mehrdadesheshom\"\n",
        "\n",
        "print(\"your name:\", name)\n",
        "print(\"your telegram id:\", telegram_id)"
      ]
    },
    {
      "cell_type": "markdown",
      "id": "a0c4c29c",
      "metadata": {
        "id": "a0c4c29c"
      },
      "source": [
        "### **In this project we are going to explore the stats of Olympic games' athletes. A dataset is provided which includes the atheletes names along with their weights, heights, ages and nationalities. Their corresponding athletic field with their medal has been provided as well.**"
      ]
    },
    {
      "cell_type": "markdown",
      "id": "c3f9879b",
      "metadata": {
        "id": "c3f9879b"
      },
      "source": [
        "# Importing the necessary packages"
      ]
    },
    {
      "cell_type": "code",
      "execution_count": 49,
      "id": "349396be",
      "metadata": {
        "colab": {
          "base_uri": "https://localhost:8080/"
        },
        "id": "349396be",
        "outputId": "a4b2b3b7-91d9-4f15-d054-d5ceed8cb76a"
      },
      "outputs": [
        {
          "output_type": "stream",
          "name": "stdout",
          "text": [
            "Requirement already satisfied: bar-chart-race in /usr/local/lib/python3.10/dist-packages (0.1.0)\n",
            "Requirement already satisfied: pandas>=0.24 in /usr/local/lib/python3.10/dist-packages (from bar-chart-race) (1.5.3)\n",
            "Requirement already satisfied: matplotlib>=3.1 in /usr/local/lib/python3.10/dist-packages (from bar-chart-race) (3.7.1)\n",
            "Requirement already satisfied: contourpy>=1.0.1 in /usr/local/lib/python3.10/dist-packages (from matplotlib>=3.1->bar-chart-race) (1.1.0)\n",
            "Requirement already satisfied: cycler>=0.10 in /usr/local/lib/python3.10/dist-packages (from matplotlib>=3.1->bar-chart-race) (0.11.0)\n",
            "Requirement already satisfied: fonttools>=4.22.0 in /usr/local/lib/python3.10/dist-packages (from matplotlib>=3.1->bar-chart-race) (4.42.1)\n",
            "Requirement already satisfied: kiwisolver>=1.0.1 in /usr/local/lib/python3.10/dist-packages (from matplotlib>=3.1->bar-chart-race) (1.4.5)\n",
            "Requirement already satisfied: numpy>=1.20 in /usr/local/lib/python3.10/dist-packages (from matplotlib>=3.1->bar-chart-race) (1.23.5)\n",
            "Requirement already satisfied: packaging>=20.0 in /usr/local/lib/python3.10/dist-packages (from matplotlib>=3.1->bar-chart-race) (23.1)\n",
            "Requirement already satisfied: pillow>=6.2.0 in /usr/local/lib/python3.10/dist-packages (from matplotlib>=3.1->bar-chart-race) (9.4.0)\n",
            "Requirement already satisfied: pyparsing>=2.3.1 in /usr/local/lib/python3.10/dist-packages (from matplotlib>=3.1->bar-chart-race) (3.1.1)\n",
            "Requirement already satisfied: python-dateutil>=2.7 in /usr/local/lib/python3.10/dist-packages (from matplotlib>=3.1->bar-chart-race) (2.8.2)\n",
            "Requirement already satisfied: pytz>=2020.1 in /usr/local/lib/python3.10/dist-packages (from pandas>=0.24->bar-chart-race) (2023.3.post1)\n",
            "Requirement already satisfied: six>=1.5 in /usr/local/lib/python3.10/dist-packages (from python-dateutil>=2.7->matplotlib>=3.1->bar-chart-race) (1.16.0)\n"
          ]
        }
      ],
      "source": [
        "import numpy as np\n",
        "import pandas as pd\n",
        "from matplotlib import pyplot as plt\n",
        "from matplotlib import animation\n",
        "import matplotlib.pyplot as plt\n",
        "from matplotlib.animation import FuncAnimation\n",
        "import seaborn as sns\n",
        "\n",
        "!pip install bar-chart-race\n",
        "\n",
        "import bar_chart_race as bcr\n",
        "from sklearn.decomposition import PCA\n",
        "from scipy.stats import ttest_ind\n",
        "from scipy.stats import f_oneway\n",
        "#======================================================\n",
        "#Add all necessary packages here\n",
        "#======================================================"
      ]
    },
    {
      "cell_type": "markdown",
      "id": "fe271dc4",
      "metadata": {
        "id": "fe271dc4"
      },
      "source": [
        "# Loading the given dataset"
      ]
    },
    {
      "cell_type": "code",
      "execution_count": 3,
      "id": "4a35b43a",
      "metadata": {
        "colab": {
          "base_uri": "https://localhost:8080/",
          "height": 455
        },
        "id": "4a35b43a",
        "outputId": "214478fa-9224-4f41-a5c2-774bc476aade"
      },
      "outputs": [
        {
          "output_type": "execute_result",
          "data": {
            "text/plain": [
              "                                 Name Sex   Age  Height  Weight  \\\n",
              "ID                                                                \n",
              "1                           A Dijiang   M  24.0   180.0    80.0   \n",
              "2                            A Lamusi   M  23.0   170.0    60.0   \n",
              "3                 Gunnar Nielsen Aaby   M  24.0     NaN     NaN   \n",
              "4                Edgar Lindenau Aabye   M  34.0     NaN     NaN   \n",
              "5            Christine Jacoba Aaftink   F  21.0   185.0    82.0   \n",
              "...                               ...  ..   ...     ...     ...   \n",
              "35656              Stuart Fitzsimmons   M  19.0     NaN     NaN   \n",
              "35656              Stuart Fitzsimmons   M  19.0     NaN     NaN   \n",
              "35657  David Thomas \"Dave\" Fitzsimons   M  26.0   170.0    65.0   \n",
              "35657  David Thomas \"Dave\" Fitzsimons   M  30.0   170.0    65.0   \n",
              "35658                    Marek Fiurek   M  23.0   180.0    68.0   \n",
              "\n",
              "                 Team  NOC        Games  Year  Season       City  \\\n",
              "ID                                                                 \n",
              "1               China  CHN  1992 Summer  1992  Summer  Barcelona   \n",
              "2               China  CHN  2012 Summer  2012  Summer     London   \n",
              "3             Denmark  DEN  1920 Summer  1920  Summer  Antwerpen   \n",
              "4      Denmark/Sweden  DEN  1900 Summer  1900  Summer      Paris   \n",
              "5         Netherlands  NED  1988 Winter  1988  Winter    Calgary   \n",
              "...               ...  ...          ...   ...     ...        ...   \n",
              "35656   Great Britain  GBR  1976 Winter  1976  Winter  Innsbruck   \n",
              "35656   Great Britain  GBR  1976 Winter  1976  Winter  Innsbruck   \n",
              "35657       Australia  AUS  1976 Summer  1976  Summer   Montreal   \n",
              "35657       Australia  AUS  1980 Summer  1980  Summer     Moskva   \n",
              "35658  Czech Republic  CZE  1998 Winter  1998  Winter     Nagano   \n",
              "\n",
              "                 Sport                             Event Medal  \n",
              "ID                                                              \n",
              "1           Basketball       Basketball Men's Basketball   NaN  \n",
              "2                 Judo      Judo Men's Extra-Lightweight   NaN  \n",
              "3             Football           Football Men's Football   NaN  \n",
              "4           Tug-Of-War       Tug-Of-War Men's Tug-Of-War  Gold  \n",
              "5        Speed Skating  Speed Skating Women's 500 metres   NaN  \n",
              "...                ...                               ...   ...  \n",
              "35656    Alpine Skiing  Alpine Skiing Men's Giant Slalom   NaN  \n",
              "35656    Alpine Skiing        Alpine Skiing Men's Slalom   NaN  \n",
              "35657        Athletics     Athletics Men's 10,000 metres   NaN  \n",
              "35657        Athletics      Athletics Men's 5,000 metres   NaN  \n",
              "35658  Nordic Combined        Nordic Combined Men's Team   NaN  \n",
              "\n",
              "[70000 rows x 14 columns]"
            ],
            "text/html": [
              "\n",
              "  <div id=\"df-dc846a45-bf8d-4fbe-8da6-f4473efceb5b\" class=\"colab-df-container\">\n",
              "    <div>\n",
              "<style scoped>\n",
              "    .dataframe tbody tr th:only-of-type {\n",
              "        vertical-align: middle;\n",
              "    }\n",
              "\n",
              "    .dataframe tbody tr th {\n",
              "        vertical-align: top;\n",
              "    }\n",
              "\n",
              "    .dataframe thead th {\n",
              "        text-align: right;\n",
              "    }\n",
              "</style>\n",
              "<table border=\"1\" class=\"dataframe\">\n",
              "  <thead>\n",
              "    <tr style=\"text-align: right;\">\n",
              "      <th></th>\n",
              "      <th>Name</th>\n",
              "      <th>Sex</th>\n",
              "      <th>Age</th>\n",
              "      <th>Height</th>\n",
              "      <th>Weight</th>\n",
              "      <th>Team</th>\n",
              "      <th>NOC</th>\n",
              "      <th>Games</th>\n",
              "      <th>Year</th>\n",
              "      <th>Season</th>\n",
              "      <th>City</th>\n",
              "      <th>Sport</th>\n",
              "      <th>Event</th>\n",
              "      <th>Medal</th>\n",
              "    </tr>\n",
              "    <tr>\n",
              "      <th>ID</th>\n",
              "      <th></th>\n",
              "      <th></th>\n",
              "      <th></th>\n",
              "      <th></th>\n",
              "      <th></th>\n",
              "      <th></th>\n",
              "      <th></th>\n",
              "      <th></th>\n",
              "      <th></th>\n",
              "      <th></th>\n",
              "      <th></th>\n",
              "      <th></th>\n",
              "      <th></th>\n",
              "      <th></th>\n",
              "    </tr>\n",
              "  </thead>\n",
              "  <tbody>\n",
              "    <tr>\n",
              "      <th>1</th>\n",
              "      <td>A Dijiang</td>\n",
              "      <td>M</td>\n",
              "      <td>24.0</td>\n",
              "      <td>180.0</td>\n",
              "      <td>80.0</td>\n",
              "      <td>China</td>\n",
              "      <td>CHN</td>\n",
              "      <td>1992 Summer</td>\n",
              "      <td>1992</td>\n",
              "      <td>Summer</td>\n",
              "      <td>Barcelona</td>\n",
              "      <td>Basketball</td>\n",
              "      <td>Basketball Men's Basketball</td>\n",
              "      <td>NaN</td>\n",
              "    </tr>\n",
              "    <tr>\n",
              "      <th>2</th>\n",
              "      <td>A Lamusi</td>\n",
              "      <td>M</td>\n",
              "      <td>23.0</td>\n",
              "      <td>170.0</td>\n",
              "      <td>60.0</td>\n",
              "      <td>China</td>\n",
              "      <td>CHN</td>\n",
              "      <td>2012 Summer</td>\n",
              "      <td>2012</td>\n",
              "      <td>Summer</td>\n",
              "      <td>London</td>\n",
              "      <td>Judo</td>\n",
              "      <td>Judo Men's Extra-Lightweight</td>\n",
              "      <td>NaN</td>\n",
              "    </tr>\n",
              "    <tr>\n",
              "      <th>3</th>\n",
              "      <td>Gunnar Nielsen Aaby</td>\n",
              "      <td>M</td>\n",
              "      <td>24.0</td>\n",
              "      <td>NaN</td>\n",
              "      <td>NaN</td>\n",
              "      <td>Denmark</td>\n",
              "      <td>DEN</td>\n",
              "      <td>1920 Summer</td>\n",
              "      <td>1920</td>\n",
              "      <td>Summer</td>\n",
              "      <td>Antwerpen</td>\n",
              "      <td>Football</td>\n",
              "      <td>Football Men's Football</td>\n",
              "      <td>NaN</td>\n",
              "    </tr>\n",
              "    <tr>\n",
              "      <th>4</th>\n",
              "      <td>Edgar Lindenau Aabye</td>\n",
              "      <td>M</td>\n",
              "      <td>34.0</td>\n",
              "      <td>NaN</td>\n",
              "      <td>NaN</td>\n",
              "      <td>Denmark/Sweden</td>\n",
              "      <td>DEN</td>\n",
              "      <td>1900 Summer</td>\n",
              "      <td>1900</td>\n",
              "      <td>Summer</td>\n",
              "      <td>Paris</td>\n",
              "      <td>Tug-Of-War</td>\n",
              "      <td>Tug-Of-War Men's Tug-Of-War</td>\n",
              "      <td>Gold</td>\n",
              "    </tr>\n",
              "    <tr>\n",
              "      <th>5</th>\n",
              "      <td>Christine Jacoba Aaftink</td>\n",
              "      <td>F</td>\n",
              "      <td>21.0</td>\n",
              "      <td>185.0</td>\n",
              "      <td>82.0</td>\n",
              "      <td>Netherlands</td>\n",
              "      <td>NED</td>\n",
              "      <td>1988 Winter</td>\n",
              "      <td>1988</td>\n",
              "      <td>Winter</td>\n",
              "      <td>Calgary</td>\n",
              "      <td>Speed Skating</td>\n",
              "      <td>Speed Skating Women's 500 metres</td>\n",
              "      <td>NaN</td>\n",
              "    </tr>\n",
              "    <tr>\n",
              "      <th>...</th>\n",
              "      <td>...</td>\n",
              "      <td>...</td>\n",
              "      <td>...</td>\n",
              "      <td>...</td>\n",
              "      <td>...</td>\n",
              "      <td>...</td>\n",
              "      <td>...</td>\n",
              "      <td>...</td>\n",
              "      <td>...</td>\n",
              "      <td>...</td>\n",
              "      <td>...</td>\n",
              "      <td>...</td>\n",
              "      <td>...</td>\n",
              "      <td>...</td>\n",
              "    </tr>\n",
              "    <tr>\n",
              "      <th>35656</th>\n",
              "      <td>Stuart Fitzsimmons</td>\n",
              "      <td>M</td>\n",
              "      <td>19.0</td>\n",
              "      <td>NaN</td>\n",
              "      <td>NaN</td>\n",
              "      <td>Great Britain</td>\n",
              "      <td>GBR</td>\n",
              "      <td>1976 Winter</td>\n",
              "      <td>1976</td>\n",
              "      <td>Winter</td>\n",
              "      <td>Innsbruck</td>\n",
              "      <td>Alpine Skiing</td>\n",
              "      <td>Alpine Skiing Men's Giant Slalom</td>\n",
              "      <td>NaN</td>\n",
              "    </tr>\n",
              "    <tr>\n",
              "      <th>35656</th>\n",
              "      <td>Stuart Fitzsimmons</td>\n",
              "      <td>M</td>\n",
              "      <td>19.0</td>\n",
              "      <td>NaN</td>\n",
              "      <td>NaN</td>\n",
              "      <td>Great Britain</td>\n",
              "      <td>GBR</td>\n",
              "      <td>1976 Winter</td>\n",
              "      <td>1976</td>\n",
              "      <td>Winter</td>\n",
              "      <td>Innsbruck</td>\n",
              "      <td>Alpine Skiing</td>\n",
              "      <td>Alpine Skiing Men's Slalom</td>\n",
              "      <td>NaN</td>\n",
              "    </tr>\n",
              "    <tr>\n",
              "      <th>35657</th>\n",
              "      <td>David Thomas \"Dave\" Fitzsimons</td>\n",
              "      <td>M</td>\n",
              "      <td>26.0</td>\n",
              "      <td>170.0</td>\n",
              "      <td>65.0</td>\n",
              "      <td>Australia</td>\n",
              "      <td>AUS</td>\n",
              "      <td>1976 Summer</td>\n",
              "      <td>1976</td>\n",
              "      <td>Summer</td>\n",
              "      <td>Montreal</td>\n",
              "      <td>Athletics</td>\n",
              "      <td>Athletics Men's 10,000 metres</td>\n",
              "      <td>NaN</td>\n",
              "    </tr>\n",
              "    <tr>\n",
              "      <th>35657</th>\n",
              "      <td>David Thomas \"Dave\" Fitzsimons</td>\n",
              "      <td>M</td>\n",
              "      <td>30.0</td>\n",
              "      <td>170.0</td>\n",
              "      <td>65.0</td>\n",
              "      <td>Australia</td>\n",
              "      <td>AUS</td>\n",
              "      <td>1980 Summer</td>\n",
              "      <td>1980</td>\n",
              "      <td>Summer</td>\n",
              "      <td>Moskva</td>\n",
              "      <td>Athletics</td>\n",
              "      <td>Athletics Men's 5,000 metres</td>\n",
              "      <td>NaN</td>\n",
              "    </tr>\n",
              "    <tr>\n",
              "      <th>35658</th>\n",
              "      <td>Marek Fiurek</td>\n",
              "      <td>M</td>\n",
              "      <td>23.0</td>\n",
              "      <td>180.0</td>\n",
              "      <td>68.0</td>\n",
              "      <td>Czech Republic</td>\n",
              "      <td>CZE</td>\n",
              "      <td>1998 Winter</td>\n",
              "      <td>1998</td>\n",
              "      <td>Winter</td>\n",
              "      <td>Nagano</td>\n",
              "      <td>Nordic Combined</td>\n",
              "      <td>Nordic Combined Men's Team</td>\n",
              "      <td>NaN</td>\n",
              "    </tr>\n",
              "  </tbody>\n",
              "</table>\n",
              "<p>70000 rows × 14 columns</p>\n",
              "</div>\n",
              "    <div class=\"colab-df-buttons\">\n",
              "\n",
              "  <div class=\"colab-df-container\">\n",
              "    <button class=\"colab-df-convert\" onclick=\"convertToInteractive('df-dc846a45-bf8d-4fbe-8da6-f4473efceb5b')\"\n",
              "            title=\"Convert this dataframe to an interactive table.\"\n",
              "            style=\"display:none;\">\n",
              "\n",
              "  <svg xmlns=\"http://www.w3.org/2000/svg\" height=\"24px\" viewBox=\"0 -960 960 960\">\n",
              "    <path d=\"M120-120v-720h720v720H120Zm60-500h600v-160H180v160Zm220 220h160v-160H400v160Zm0 220h160v-160H400v160ZM180-400h160v-160H180v160Zm440 0h160v-160H620v160ZM180-180h160v-160H180v160Zm440 0h160v-160H620v160Z\"/>\n",
              "  </svg>\n",
              "    </button>\n",
              "\n",
              "  <style>\n",
              "    .colab-df-container {\n",
              "      display:flex;\n",
              "      gap: 12px;\n",
              "    }\n",
              "\n",
              "    .colab-df-convert {\n",
              "      background-color: #E8F0FE;\n",
              "      border: none;\n",
              "      border-radius: 50%;\n",
              "      cursor: pointer;\n",
              "      display: none;\n",
              "      fill: #1967D2;\n",
              "      height: 32px;\n",
              "      padding: 0 0 0 0;\n",
              "      width: 32px;\n",
              "    }\n",
              "\n",
              "    .colab-df-convert:hover {\n",
              "      background-color: #E2EBFA;\n",
              "      box-shadow: 0px 1px 2px rgba(60, 64, 67, 0.3), 0px 1px 3px 1px rgba(60, 64, 67, 0.15);\n",
              "      fill: #174EA6;\n",
              "    }\n",
              "\n",
              "    .colab-df-buttons div {\n",
              "      margin-bottom: 4px;\n",
              "    }\n",
              "\n",
              "    [theme=dark] .colab-df-convert {\n",
              "      background-color: #3B4455;\n",
              "      fill: #D2E3FC;\n",
              "    }\n",
              "\n",
              "    [theme=dark] .colab-df-convert:hover {\n",
              "      background-color: #434B5C;\n",
              "      box-shadow: 0px 1px 3px 1px rgba(0, 0, 0, 0.15);\n",
              "      filter: drop-shadow(0px 1px 2px rgba(0, 0, 0, 0.3));\n",
              "      fill: #FFFFFF;\n",
              "    }\n",
              "  </style>\n",
              "\n",
              "    <script>\n",
              "      const buttonEl =\n",
              "        document.querySelector('#df-dc846a45-bf8d-4fbe-8da6-f4473efceb5b button.colab-df-convert');\n",
              "      buttonEl.style.display =\n",
              "        google.colab.kernel.accessAllowed ? 'block' : 'none';\n",
              "\n",
              "      async function convertToInteractive(key) {\n",
              "        const element = document.querySelector('#df-dc846a45-bf8d-4fbe-8da6-f4473efceb5b');\n",
              "        const dataTable =\n",
              "          await google.colab.kernel.invokeFunction('convertToInteractive',\n",
              "                                                    [key], {});\n",
              "        if (!dataTable) return;\n",
              "\n",
              "        const docLinkHtml = 'Like what you see? Visit the ' +\n",
              "          '<a target=\"_blank\" href=https://colab.research.google.com/notebooks/data_table.ipynb>data table notebook</a>'\n",
              "          + ' to learn more about interactive tables.';\n",
              "        element.innerHTML = '';\n",
              "        dataTable['output_type'] = 'display_data';\n",
              "        await google.colab.output.renderOutput(dataTable, element);\n",
              "        const docLink = document.createElement('div');\n",
              "        docLink.innerHTML = docLinkHtml;\n",
              "        element.appendChild(docLink);\n",
              "      }\n",
              "    </script>\n",
              "  </div>\n",
              "\n",
              "\n",
              "<div id=\"df-f62bce98-529d-4ad9-bd46-f246e30b8447\">\n",
              "  <button class=\"colab-df-quickchart\" onclick=\"quickchart('df-f62bce98-529d-4ad9-bd46-f246e30b8447')\"\n",
              "            title=\"Suggest charts.\"\n",
              "            style=\"display:none;\">\n",
              "\n",
              "<svg xmlns=\"http://www.w3.org/2000/svg\" height=\"24px\"viewBox=\"0 0 24 24\"\n",
              "     width=\"24px\">\n",
              "    <g>\n",
              "        <path d=\"M19 3H5c-1.1 0-2 .9-2 2v14c0 1.1.9 2 2 2h14c1.1 0 2-.9 2-2V5c0-1.1-.9-2-2-2zM9 17H7v-7h2v7zm4 0h-2V7h2v10zm4 0h-2v-4h2v4z\"/>\n",
              "    </g>\n",
              "</svg>\n",
              "  </button>\n",
              "\n",
              "<style>\n",
              "  .colab-df-quickchart {\n",
              "      --bg-color: #E8F0FE;\n",
              "      --fill-color: #1967D2;\n",
              "      --hover-bg-color: #E2EBFA;\n",
              "      --hover-fill-color: #174EA6;\n",
              "      --disabled-fill-color: #AAA;\n",
              "      --disabled-bg-color: #DDD;\n",
              "  }\n",
              "\n",
              "  [theme=dark] .colab-df-quickchart {\n",
              "      --bg-color: #3B4455;\n",
              "      --fill-color: #D2E3FC;\n",
              "      --hover-bg-color: #434B5C;\n",
              "      --hover-fill-color: #FFFFFF;\n",
              "      --disabled-bg-color: #3B4455;\n",
              "      --disabled-fill-color: #666;\n",
              "  }\n",
              "\n",
              "  .colab-df-quickchart {\n",
              "    background-color: var(--bg-color);\n",
              "    border: none;\n",
              "    border-radius: 50%;\n",
              "    cursor: pointer;\n",
              "    display: none;\n",
              "    fill: var(--fill-color);\n",
              "    height: 32px;\n",
              "    padding: 0;\n",
              "    width: 32px;\n",
              "  }\n",
              "\n",
              "  .colab-df-quickchart:hover {\n",
              "    background-color: var(--hover-bg-color);\n",
              "    box-shadow: 0 1px 2px rgba(60, 64, 67, 0.3), 0 1px 3px 1px rgba(60, 64, 67, 0.15);\n",
              "    fill: var(--button-hover-fill-color);\n",
              "  }\n",
              "\n",
              "  .colab-df-quickchart-complete:disabled,\n",
              "  .colab-df-quickchart-complete:disabled:hover {\n",
              "    background-color: var(--disabled-bg-color);\n",
              "    fill: var(--disabled-fill-color);\n",
              "    box-shadow: none;\n",
              "  }\n",
              "\n",
              "  .colab-df-spinner {\n",
              "    border: 2px solid var(--fill-color);\n",
              "    border-color: transparent;\n",
              "    border-bottom-color: var(--fill-color);\n",
              "    animation:\n",
              "      spin 1s steps(1) infinite;\n",
              "  }\n",
              "\n",
              "  @keyframes spin {\n",
              "    0% {\n",
              "      border-color: transparent;\n",
              "      border-bottom-color: var(--fill-color);\n",
              "      border-left-color: var(--fill-color);\n",
              "    }\n",
              "    20% {\n",
              "      border-color: transparent;\n",
              "      border-left-color: var(--fill-color);\n",
              "      border-top-color: var(--fill-color);\n",
              "    }\n",
              "    30% {\n",
              "      border-color: transparent;\n",
              "      border-left-color: var(--fill-color);\n",
              "      border-top-color: var(--fill-color);\n",
              "      border-right-color: var(--fill-color);\n",
              "    }\n",
              "    40% {\n",
              "      border-color: transparent;\n",
              "      border-right-color: var(--fill-color);\n",
              "      border-top-color: var(--fill-color);\n",
              "    }\n",
              "    60% {\n",
              "      border-color: transparent;\n",
              "      border-right-color: var(--fill-color);\n",
              "    }\n",
              "    80% {\n",
              "      border-color: transparent;\n",
              "      border-right-color: var(--fill-color);\n",
              "      border-bottom-color: var(--fill-color);\n",
              "    }\n",
              "    90% {\n",
              "      border-color: transparent;\n",
              "      border-bottom-color: var(--fill-color);\n",
              "    }\n",
              "  }\n",
              "</style>\n",
              "\n",
              "  <script>\n",
              "    async function quickchart(key) {\n",
              "      const quickchartButtonEl =\n",
              "        document.querySelector('#' + key + ' button');\n",
              "      quickchartButtonEl.disabled = true;  // To prevent multiple clicks.\n",
              "      quickchartButtonEl.classList.add('colab-df-spinner');\n",
              "      try {\n",
              "        const charts = await google.colab.kernel.invokeFunction(\n",
              "            'suggestCharts', [key], {});\n",
              "      } catch (error) {\n",
              "        console.error('Error during call to suggestCharts:', error);\n",
              "      }\n",
              "      quickchartButtonEl.classList.remove('colab-df-spinner');\n",
              "      quickchartButtonEl.classList.add('colab-df-quickchart-complete');\n",
              "    }\n",
              "    (() => {\n",
              "      let quickchartButtonEl =\n",
              "        document.querySelector('#df-f62bce98-529d-4ad9-bd46-f246e30b8447 button');\n",
              "      quickchartButtonEl.style.display =\n",
              "        google.colab.kernel.accessAllowed ? 'block' : 'none';\n",
              "    })();\n",
              "  </script>\n",
              "</div>\n",
              "    </div>\n",
              "  </div>\n"
            ]
          },
          "metadata": {},
          "execution_count": 3
        }
      ],
      "source": [
        "df = pd.read_csv('./dataset_olympics.csv', index_col=0)\n",
        "\n",
        "df"
      ]
    },
    {
      "cell_type": "markdown",
      "id": "d499e178",
      "metadata": {
        "id": "d499e178"
      },
      "source": [
        "# Data preprocessing"
      ]
    },
    {
      "cell_type": "markdown",
      "id": "368ed08a",
      "metadata": {
        "id": "368ed08a"
      },
      "source": [
        "### As you may have already guessed, some fields in the dataframe are not valid! For example the age of some atheletes is NaN! In the medals column, those atheletes without a medal are described with NaN as well!"
      ]
    },
    {
      "cell_type": "code",
      "execution_count": 4,
      "id": "35a1dec6",
      "metadata": {
        "scrolled": true,
        "colab": {
          "base_uri": "https://localhost:8080/"
        },
        "id": "35a1dec6",
        "outputId": "3eda8b9f-46de-43d4-bdd2-1198d868c60e"
      },
      "outputs": [
        {
          "output_type": "execute_result",
          "data": {
            "text/plain": [
              "2732"
            ]
          },
          "metadata": {},
          "execution_count": 4
        }
      ],
      "source": [
        "df['Age'].isnull().sum()"
      ]
    },
    {
      "cell_type": "markdown",
      "id": "a16698f5",
      "metadata": {
        "id": "a16698f5"
      },
      "source": [
        "### Since the age is important in our analysis, we need to remove all records with NaN age. Also, the athletes without a medal must also have a new category named \"none\"."
      ]
    },
    {
      "cell_type": "code",
      "execution_count": 5,
      "id": "ff6b7e2a",
      "metadata": {
        "colab": {
          "base_uri": "https://localhost:8080/",
          "height": 559
        },
        "id": "ff6b7e2a",
        "outputId": "07658984-31ae-4096-d32f-a0f24520170d"
      },
      "outputs": [
        {
          "output_type": "stream",
          "name": "stdout",
          "text": [
            "0\n"
          ]
        },
        {
          "output_type": "stream",
          "name": "stderr",
          "text": [
            "<ipython-input-5-2da9d0557bee>:7: SettingWithCopyWarning: \n",
            "A value is trying to be set on a copy of a slice from a DataFrame\n",
            "\n",
            "See the caveats in the documentation: https://pandas.pydata.org/pandas-docs/stable/user_guide/indexing.html#returning-a-view-versus-a-copy\n",
            "  df2['Medal'].replace(np.nan, 'none', inplace=True)\n"
          ]
        },
        {
          "output_type": "execute_result",
          "data": {
            "text/plain": [
              "                                 Name Sex   Age  Height  Weight  \\\n",
              "ID                                                                \n",
              "1                           A Dijiang   M  24.0   180.0    80.0   \n",
              "2                            A Lamusi   M  23.0   170.0    60.0   \n",
              "3                 Gunnar Nielsen Aaby   M  24.0     NaN     NaN   \n",
              "4                Edgar Lindenau Aabye   M  34.0     NaN     NaN   \n",
              "5            Christine Jacoba Aaftink   F  21.0   185.0    82.0   \n",
              "...                               ...  ..   ...     ...     ...   \n",
              "35656              Stuart Fitzsimmons   M  19.0     NaN     NaN   \n",
              "35656              Stuart Fitzsimmons   M  19.0     NaN     NaN   \n",
              "35657  David Thomas \"Dave\" Fitzsimons   M  26.0   170.0    65.0   \n",
              "35657  David Thomas \"Dave\" Fitzsimons   M  30.0   170.0    65.0   \n",
              "35658                    Marek Fiurek   M  23.0   180.0    68.0   \n",
              "\n",
              "                 Team  NOC        Games  Year  Season       City  \\\n",
              "ID                                                                 \n",
              "1               China  CHN  1992 Summer  1992  Summer  Barcelona   \n",
              "2               China  CHN  2012 Summer  2012  Summer     London   \n",
              "3             Denmark  DEN  1920 Summer  1920  Summer  Antwerpen   \n",
              "4      Denmark/Sweden  DEN  1900 Summer  1900  Summer      Paris   \n",
              "5         Netherlands  NED  1988 Winter  1988  Winter    Calgary   \n",
              "...               ...  ...          ...   ...     ...        ...   \n",
              "35656   Great Britain  GBR  1976 Winter  1976  Winter  Innsbruck   \n",
              "35656   Great Britain  GBR  1976 Winter  1976  Winter  Innsbruck   \n",
              "35657       Australia  AUS  1976 Summer  1976  Summer   Montreal   \n",
              "35657       Australia  AUS  1980 Summer  1980  Summer     Moskva   \n",
              "35658  Czech Republic  CZE  1998 Winter  1998  Winter     Nagano   \n",
              "\n",
              "                 Sport                             Event Medal  \n",
              "ID                                                              \n",
              "1           Basketball       Basketball Men's Basketball  none  \n",
              "2                 Judo      Judo Men's Extra-Lightweight  none  \n",
              "3             Football           Football Men's Football  none  \n",
              "4           Tug-Of-War       Tug-Of-War Men's Tug-Of-War  Gold  \n",
              "5        Speed Skating  Speed Skating Women's 500 metres  none  \n",
              "...                ...                               ...   ...  \n",
              "35656    Alpine Skiing  Alpine Skiing Men's Giant Slalom  none  \n",
              "35656    Alpine Skiing        Alpine Skiing Men's Slalom  none  \n",
              "35657        Athletics     Athletics Men's 10,000 metres  none  \n",
              "35657        Athletics      Athletics Men's 5,000 metres  none  \n",
              "35658  Nordic Combined        Nordic Combined Men's Team  none  \n",
              "\n",
              "[67268 rows x 14 columns]"
            ],
            "text/html": [
              "\n",
              "  <div id=\"df-de7801fb-b9fd-4953-af8e-84d83bdca08b\" class=\"colab-df-container\">\n",
              "    <div>\n",
              "<style scoped>\n",
              "    .dataframe tbody tr th:only-of-type {\n",
              "        vertical-align: middle;\n",
              "    }\n",
              "\n",
              "    .dataframe tbody tr th {\n",
              "        vertical-align: top;\n",
              "    }\n",
              "\n",
              "    .dataframe thead th {\n",
              "        text-align: right;\n",
              "    }\n",
              "</style>\n",
              "<table border=\"1\" class=\"dataframe\">\n",
              "  <thead>\n",
              "    <tr style=\"text-align: right;\">\n",
              "      <th></th>\n",
              "      <th>Name</th>\n",
              "      <th>Sex</th>\n",
              "      <th>Age</th>\n",
              "      <th>Height</th>\n",
              "      <th>Weight</th>\n",
              "      <th>Team</th>\n",
              "      <th>NOC</th>\n",
              "      <th>Games</th>\n",
              "      <th>Year</th>\n",
              "      <th>Season</th>\n",
              "      <th>City</th>\n",
              "      <th>Sport</th>\n",
              "      <th>Event</th>\n",
              "      <th>Medal</th>\n",
              "    </tr>\n",
              "    <tr>\n",
              "      <th>ID</th>\n",
              "      <th></th>\n",
              "      <th></th>\n",
              "      <th></th>\n",
              "      <th></th>\n",
              "      <th></th>\n",
              "      <th></th>\n",
              "      <th></th>\n",
              "      <th></th>\n",
              "      <th></th>\n",
              "      <th></th>\n",
              "      <th></th>\n",
              "      <th></th>\n",
              "      <th></th>\n",
              "      <th></th>\n",
              "    </tr>\n",
              "  </thead>\n",
              "  <tbody>\n",
              "    <tr>\n",
              "      <th>1</th>\n",
              "      <td>A Dijiang</td>\n",
              "      <td>M</td>\n",
              "      <td>24.0</td>\n",
              "      <td>180.0</td>\n",
              "      <td>80.0</td>\n",
              "      <td>China</td>\n",
              "      <td>CHN</td>\n",
              "      <td>1992 Summer</td>\n",
              "      <td>1992</td>\n",
              "      <td>Summer</td>\n",
              "      <td>Barcelona</td>\n",
              "      <td>Basketball</td>\n",
              "      <td>Basketball Men's Basketball</td>\n",
              "      <td>none</td>\n",
              "    </tr>\n",
              "    <tr>\n",
              "      <th>2</th>\n",
              "      <td>A Lamusi</td>\n",
              "      <td>M</td>\n",
              "      <td>23.0</td>\n",
              "      <td>170.0</td>\n",
              "      <td>60.0</td>\n",
              "      <td>China</td>\n",
              "      <td>CHN</td>\n",
              "      <td>2012 Summer</td>\n",
              "      <td>2012</td>\n",
              "      <td>Summer</td>\n",
              "      <td>London</td>\n",
              "      <td>Judo</td>\n",
              "      <td>Judo Men's Extra-Lightweight</td>\n",
              "      <td>none</td>\n",
              "    </tr>\n",
              "    <tr>\n",
              "      <th>3</th>\n",
              "      <td>Gunnar Nielsen Aaby</td>\n",
              "      <td>M</td>\n",
              "      <td>24.0</td>\n",
              "      <td>NaN</td>\n",
              "      <td>NaN</td>\n",
              "      <td>Denmark</td>\n",
              "      <td>DEN</td>\n",
              "      <td>1920 Summer</td>\n",
              "      <td>1920</td>\n",
              "      <td>Summer</td>\n",
              "      <td>Antwerpen</td>\n",
              "      <td>Football</td>\n",
              "      <td>Football Men's Football</td>\n",
              "      <td>none</td>\n",
              "    </tr>\n",
              "    <tr>\n",
              "      <th>4</th>\n",
              "      <td>Edgar Lindenau Aabye</td>\n",
              "      <td>M</td>\n",
              "      <td>34.0</td>\n",
              "      <td>NaN</td>\n",
              "      <td>NaN</td>\n",
              "      <td>Denmark/Sweden</td>\n",
              "      <td>DEN</td>\n",
              "      <td>1900 Summer</td>\n",
              "      <td>1900</td>\n",
              "      <td>Summer</td>\n",
              "      <td>Paris</td>\n",
              "      <td>Tug-Of-War</td>\n",
              "      <td>Tug-Of-War Men's Tug-Of-War</td>\n",
              "      <td>Gold</td>\n",
              "    </tr>\n",
              "    <tr>\n",
              "      <th>5</th>\n",
              "      <td>Christine Jacoba Aaftink</td>\n",
              "      <td>F</td>\n",
              "      <td>21.0</td>\n",
              "      <td>185.0</td>\n",
              "      <td>82.0</td>\n",
              "      <td>Netherlands</td>\n",
              "      <td>NED</td>\n",
              "      <td>1988 Winter</td>\n",
              "      <td>1988</td>\n",
              "      <td>Winter</td>\n",
              "      <td>Calgary</td>\n",
              "      <td>Speed Skating</td>\n",
              "      <td>Speed Skating Women's 500 metres</td>\n",
              "      <td>none</td>\n",
              "    </tr>\n",
              "    <tr>\n",
              "      <th>...</th>\n",
              "      <td>...</td>\n",
              "      <td>...</td>\n",
              "      <td>...</td>\n",
              "      <td>...</td>\n",
              "      <td>...</td>\n",
              "      <td>...</td>\n",
              "      <td>...</td>\n",
              "      <td>...</td>\n",
              "      <td>...</td>\n",
              "      <td>...</td>\n",
              "      <td>...</td>\n",
              "      <td>...</td>\n",
              "      <td>...</td>\n",
              "      <td>...</td>\n",
              "    </tr>\n",
              "    <tr>\n",
              "      <th>35656</th>\n",
              "      <td>Stuart Fitzsimmons</td>\n",
              "      <td>M</td>\n",
              "      <td>19.0</td>\n",
              "      <td>NaN</td>\n",
              "      <td>NaN</td>\n",
              "      <td>Great Britain</td>\n",
              "      <td>GBR</td>\n",
              "      <td>1976 Winter</td>\n",
              "      <td>1976</td>\n",
              "      <td>Winter</td>\n",
              "      <td>Innsbruck</td>\n",
              "      <td>Alpine Skiing</td>\n",
              "      <td>Alpine Skiing Men's Giant Slalom</td>\n",
              "      <td>none</td>\n",
              "    </tr>\n",
              "    <tr>\n",
              "      <th>35656</th>\n",
              "      <td>Stuart Fitzsimmons</td>\n",
              "      <td>M</td>\n",
              "      <td>19.0</td>\n",
              "      <td>NaN</td>\n",
              "      <td>NaN</td>\n",
              "      <td>Great Britain</td>\n",
              "      <td>GBR</td>\n",
              "      <td>1976 Winter</td>\n",
              "      <td>1976</td>\n",
              "      <td>Winter</td>\n",
              "      <td>Innsbruck</td>\n",
              "      <td>Alpine Skiing</td>\n",
              "      <td>Alpine Skiing Men's Slalom</td>\n",
              "      <td>none</td>\n",
              "    </tr>\n",
              "    <tr>\n",
              "      <th>35657</th>\n",
              "      <td>David Thomas \"Dave\" Fitzsimons</td>\n",
              "      <td>M</td>\n",
              "      <td>26.0</td>\n",
              "      <td>170.0</td>\n",
              "      <td>65.0</td>\n",
              "      <td>Australia</td>\n",
              "      <td>AUS</td>\n",
              "      <td>1976 Summer</td>\n",
              "      <td>1976</td>\n",
              "      <td>Summer</td>\n",
              "      <td>Montreal</td>\n",
              "      <td>Athletics</td>\n",
              "      <td>Athletics Men's 10,000 metres</td>\n",
              "      <td>none</td>\n",
              "    </tr>\n",
              "    <tr>\n",
              "      <th>35657</th>\n",
              "      <td>David Thomas \"Dave\" Fitzsimons</td>\n",
              "      <td>M</td>\n",
              "      <td>30.0</td>\n",
              "      <td>170.0</td>\n",
              "      <td>65.0</td>\n",
              "      <td>Australia</td>\n",
              "      <td>AUS</td>\n",
              "      <td>1980 Summer</td>\n",
              "      <td>1980</td>\n",
              "      <td>Summer</td>\n",
              "      <td>Moskva</td>\n",
              "      <td>Athletics</td>\n",
              "      <td>Athletics Men's 5,000 metres</td>\n",
              "      <td>none</td>\n",
              "    </tr>\n",
              "    <tr>\n",
              "      <th>35658</th>\n",
              "      <td>Marek Fiurek</td>\n",
              "      <td>M</td>\n",
              "      <td>23.0</td>\n",
              "      <td>180.0</td>\n",
              "      <td>68.0</td>\n",
              "      <td>Czech Republic</td>\n",
              "      <td>CZE</td>\n",
              "      <td>1998 Winter</td>\n",
              "      <td>1998</td>\n",
              "      <td>Winter</td>\n",
              "      <td>Nagano</td>\n",
              "      <td>Nordic Combined</td>\n",
              "      <td>Nordic Combined Men's Team</td>\n",
              "      <td>none</td>\n",
              "    </tr>\n",
              "  </tbody>\n",
              "</table>\n",
              "<p>67268 rows × 14 columns</p>\n",
              "</div>\n",
              "    <div class=\"colab-df-buttons\">\n",
              "\n",
              "  <div class=\"colab-df-container\">\n",
              "    <button class=\"colab-df-convert\" onclick=\"convertToInteractive('df-de7801fb-b9fd-4953-af8e-84d83bdca08b')\"\n",
              "            title=\"Convert this dataframe to an interactive table.\"\n",
              "            style=\"display:none;\">\n",
              "\n",
              "  <svg xmlns=\"http://www.w3.org/2000/svg\" height=\"24px\" viewBox=\"0 -960 960 960\">\n",
              "    <path d=\"M120-120v-720h720v720H120Zm60-500h600v-160H180v160Zm220 220h160v-160H400v160Zm0 220h160v-160H400v160ZM180-400h160v-160H180v160Zm440 0h160v-160H620v160ZM180-180h160v-160H180v160Zm440 0h160v-160H620v160Z\"/>\n",
              "  </svg>\n",
              "    </button>\n",
              "\n",
              "  <style>\n",
              "    .colab-df-container {\n",
              "      display:flex;\n",
              "      gap: 12px;\n",
              "    }\n",
              "\n",
              "    .colab-df-convert {\n",
              "      background-color: #E8F0FE;\n",
              "      border: none;\n",
              "      border-radius: 50%;\n",
              "      cursor: pointer;\n",
              "      display: none;\n",
              "      fill: #1967D2;\n",
              "      height: 32px;\n",
              "      padding: 0 0 0 0;\n",
              "      width: 32px;\n",
              "    }\n",
              "\n",
              "    .colab-df-convert:hover {\n",
              "      background-color: #E2EBFA;\n",
              "      box-shadow: 0px 1px 2px rgba(60, 64, 67, 0.3), 0px 1px 3px 1px rgba(60, 64, 67, 0.15);\n",
              "      fill: #174EA6;\n",
              "    }\n",
              "\n",
              "    .colab-df-buttons div {\n",
              "      margin-bottom: 4px;\n",
              "    }\n",
              "\n",
              "    [theme=dark] .colab-df-convert {\n",
              "      background-color: #3B4455;\n",
              "      fill: #D2E3FC;\n",
              "    }\n",
              "\n",
              "    [theme=dark] .colab-df-convert:hover {\n",
              "      background-color: #434B5C;\n",
              "      box-shadow: 0px 1px 3px 1px rgba(0, 0, 0, 0.15);\n",
              "      filter: drop-shadow(0px 1px 2px rgba(0, 0, 0, 0.3));\n",
              "      fill: #FFFFFF;\n",
              "    }\n",
              "  </style>\n",
              "\n",
              "    <script>\n",
              "      const buttonEl =\n",
              "        document.querySelector('#df-de7801fb-b9fd-4953-af8e-84d83bdca08b button.colab-df-convert');\n",
              "      buttonEl.style.display =\n",
              "        google.colab.kernel.accessAllowed ? 'block' : 'none';\n",
              "\n",
              "      async function convertToInteractive(key) {\n",
              "        const element = document.querySelector('#df-de7801fb-b9fd-4953-af8e-84d83bdca08b');\n",
              "        const dataTable =\n",
              "          await google.colab.kernel.invokeFunction('convertToInteractive',\n",
              "                                                    [key], {});\n",
              "        if (!dataTable) return;\n",
              "\n",
              "        const docLinkHtml = 'Like what you see? Visit the ' +\n",
              "          '<a target=\"_blank\" href=https://colab.research.google.com/notebooks/data_table.ipynb>data table notebook</a>'\n",
              "          + ' to learn more about interactive tables.';\n",
              "        element.innerHTML = '';\n",
              "        dataTable['output_type'] = 'display_data';\n",
              "        await google.colab.output.renderOutput(dataTable, element);\n",
              "        const docLink = document.createElement('div');\n",
              "        docLink.innerHTML = docLinkHtml;\n",
              "        element.appendChild(docLink);\n",
              "      }\n",
              "    </script>\n",
              "  </div>\n",
              "\n",
              "\n",
              "<div id=\"df-e286d181-3b24-4637-b8c6-ae9c0d41799c\">\n",
              "  <button class=\"colab-df-quickchart\" onclick=\"quickchart('df-e286d181-3b24-4637-b8c6-ae9c0d41799c')\"\n",
              "            title=\"Suggest charts.\"\n",
              "            style=\"display:none;\">\n",
              "\n",
              "<svg xmlns=\"http://www.w3.org/2000/svg\" height=\"24px\"viewBox=\"0 0 24 24\"\n",
              "     width=\"24px\">\n",
              "    <g>\n",
              "        <path d=\"M19 3H5c-1.1 0-2 .9-2 2v14c0 1.1.9 2 2 2h14c1.1 0 2-.9 2-2V5c0-1.1-.9-2-2-2zM9 17H7v-7h2v7zm4 0h-2V7h2v10zm4 0h-2v-4h2v4z\"/>\n",
              "    </g>\n",
              "</svg>\n",
              "  </button>\n",
              "\n",
              "<style>\n",
              "  .colab-df-quickchart {\n",
              "      --bg-color: #E8F0FE;\n",
              "      --fill-color: #1967D2;\n",
              "      --hover-bg-color: #E2EBFA;\n",
              "      --hover-fill-color: #174EA6;\n",
              "      --disabled-fill-color: #AAA;\n",
              "      --disabled-bg-color: #DDD;\n",
              "  }\n",
              "\n",
              "  [theme=dark] .colab-df-quickchart {\n",
              "      --bg-color: #3B4455;\n",
              "      --fill-color: #D2E3FC;\n",
              "      --hover-bg-color: #434B5C;\n",
              "      --hover-fill-color: #FFFFFF;\n",
              "      --disabled-bg-color: #3B4455;\n",
              "      --disabled-fill-color: #666;\n",
              "  }\n",
              "\n",
              "  .colab-df-quickchart {\n",
              "    background-color: var(--bg-color);\n",
              "    border: none;\n",
              "    border-radius: 50%;\n",
              "    cursor: pointer;\n",
              "    display: none;\n",
              "    fill: var(--fill-color);\n",
              "    height: 32px;\n",
              "    padding: 0;\n",
              "    width: 32px;\n",
              "  }\n",
              "\n",
              "  .colab-df-quickchart:hover {\n",
              "    background-color: var(--hover-bg-color);\n",
              "    box-shadow: 0 1px 2px rgba(60, 64, 67, 0.3), 0 1px 3px 1px rgba(60, 64, 67, 0.15);\n",
              "    fill: var(--button-hover-fill-color);\n",
              "  }\n",
              "\n",
              "  .colab-df-quickchart-complete:disabled,\n",
              "  .colab-df-quickchart-complete:disabled:hover {\n",
              "    background-color: var(--disabled-bg-color);\n",
              "    fill: var(--disabled-fill-color);\n",
              "    box-shadow: none;\n",
              "  }\n",
              "\n",
              "  .colab-df-spinner {\n",
              "    border: 2px solid var(--fill-color);\n",
              "    border-color: transparent;\n",
              "    border-bottom-color: var(--fill-color);\n",
              "    animation:\n",
              "      spin 1s steps(1) infinite;\n",
              "  }\n",
              "\n",
              "  @keyframes spin {\n",
              "    0% {\n",
              "      border-color: transparent;\n",
              "      border-bottom-color: var(--fill-color);\n",
              "      border-left-color: var(--fill-color);\n",
              "    }\n",
              "    20% {\n",
              "      border-color: transparent;\n",
              "      border-left-color: var(--fill-color);\n",
              "      border-top-color: var(--fill-color);\n",
              "    }\n",
              "    30% {\n",
              "      border-color: transparent;\n",
              "      border-left-color: var(--fill-color);\n",
              "      border-top-color: var(--fill-color);\n",
              "      border-right-color: var(--fill-color);\n",
              "    }\n",
              "    40% {\n",
              "      border-color: transparent;\n",
              "      border-right-color: var(--fill-color);\n",
              "      border-top-color: var(--fill-color);\n",
              "    }\n",
              "    60% {\n",
              "      border-color: transparent;\n",
              "      border-right-color: var(--fill-color);\n",
              "    }\n",
              "    80% {\n",
              "      border-color: transparent;\n",
              "      border-right-color: var(--fill-color);\n",
              "      border-bottom-color: var(--fill-color);\n",
              "    }\n",
              "    90% {\n",
              "      border-color: transparent;\n",
              "      border-bottom-color: var(--fill-color);\n",
              "    }\n",
              "  }\n",
              "</style>\n",
              "\n",
              "  <script>\n",
              "    async function quickchart(key) {\n",
              "      const quickchartButtonEl =\n",
              "        document.querySelector('#' + key + ' button');\n",
              "      quickchartButtonEl.disabled = true;  // To prevent multiple clicks.\n",
              "      quickchartButtonEl.classList.add('colab-df-spinner');\n",
              "      try {\n",
              "        const charts = await google.colab.kernel.invokeFunction(\n",
              "            'suggestCharts', [key], {});\n",
              "      } catch (error) {\n",
              "        console.error('Error during call to suggestCharts:', error);\n",
              "      }\n",
              "      quickchartButtonEl.classList.remove('colab-df-spinner');\n",
              "      quickchartButtonEl.classList.add('colab-df-quickchart-complete');\n",
              "    }\n",
              "    (() => {\n",
              "      let quickchartButtonEl =\n",
              "        document.querySelector('#df-e286d181-3b24-4637-b8c6-ae9c0d41799c button');\n",
              "      quickchartButtonEl.style.display =\n",
              "        google.colab.kernel.accessAllowed ? 'block' : 'none';\n",
              "    })();\n",
              "  </script>\n",
              "</div>\n",
              "    </div>\n",
              "  </div>\n"
            ]
          },
          "metadata": {},
          "execution_count": 5
        }
      ],
      "source": [
        "#======================================================\n",
        "#Preprocess the data here\n",
        "#======================================================\n",
        "df2 = df.dropna(subset=['Age'])\n",
        "sum_nan = df2['Age'].isnull().sum()\n",
        "print(sum_nan)\n",
        "df2['Medal'].replace(np.nan, 'none', inplace=True)\n",
        "\n",
        "df = df2\n",
        "df"
      ]
    },
    {
      "cell_type": "markdown",
      "id": "15aa22bb",
      "metadata": {
        "id": "15aa22bb"
      },
      "source": [
        "# Simple as it can be!"
      ]
    },
    {
      "cell_type": "markdown",
      "id": "afecc0f9",
      "metadata": {
        "id": "afecc0f9"
      },
      "source": [
        "### Here we want to calculate some simple statistics like mean and std for main features."
      ]
    },
    {
      "cell_type": "code",
      "execution_count": 6,
      "id": "4d3f2ebe",
      "metadata": {
        "id": "4d3f2ebe"
      },
      "outputs": [],
      "source": [
        "mean_age = df['Age'].mean()\n",
        "mean_height = df['Height'].mean()\n",
        "mean_weight = df['Weight'].mean()\n",
        "\n",
        "\n",
        "\n",
        "std_age = df['Age'].std()\n",
        "std_height = df['Height'].std()\n",
        "std_weight = df['Weight'].std()\n",
        "\n",
        "min_age = min(df['Age'])\n",
        "min_height = min(df['Height'])\n",
        "min_weight =min(df['Weight'])\n",
        "\n",
        "max_age = max(df['Age'])\n",
        "max_height = max(df['Height'])\n",
        "max_weight = max(df['Weight'])"
      ]
    },
    {
      "cell_type": "markdown",
      "id": "6b2425e5",
      "metadata": {
        "id": "6b2425e5"
      },
      "source": [
        "# Age distribution"
      ]
    },
    {
      "cell_type": "markdown",
      "id": "045b294f",
      "metadata": {
        "id": "045b294f"
      },
      "source": [
        "### Create two histograms to visualize the distribution of athlete ages seperated based on their sex"
      ]
    },
    {
      "cell_type": "code",
      "execution_count": 7,
      "id": "9e4c49b7",
      "metadata": {
        "colab": {
          "base_uri": "https://localhost:8080/",
          "height": 944
        },
        "id": "9e4c49b7",
        "outputId": "468cb74b-e506-46f7-b339-fa8ef943f52f"
      },
      "outputs": [
        {
          "output_type": "execute_result",
          "data": {
            "text/plain": [
              "Text(0.5, 1.0, 'Female')"
            ]
          },
          "metadata": {},
          "execution_count": 7
        },
        {
          "output_type": "display_data",
          "data": {
            "text/plain": [
              "<Figure size 640x480 with 1 Axes>"
            ],
            "image/png": "[encoded data removed]"
          },
          "metadata": {}
        },
        {
          "output_type": "display_data",
          "data": {
            "text/plain": [
              "<Figure size 640x480 with 1 Axes>"
            ],
            "image/png": "[encoded data removed]"
          },
          "metadata": {}
        }
      ],
      "source": [
        "#======================================================\n",
        "#Your code here\n",
        "#======================================================\n",
        "Man=df.loc[df['Sex'] == 'M']\n",
        "Women=df.loc[df['Sex'] == 'F']\n",
        "\n",
        "#hist1=Man['Age'].hist()\n",
        "#hist2=Women['Age'].hist()\n",
        "plt.figure(\"Welcome to figure 1\")\n",
        "plt.hist(Man['Age'], color='blue', edgecolor='black', bins=int(45/1))\n",
        "\n",
        "plt.xlabel('Age')\n",
        "plt.ylabel('NO of athlets')\n",
        "plt.title('Male')\n",
        "\n",
        "plt.figure(\"Welcome to figure 2\")\n",
        "plt.hist(Women['Age'], color='blue', edgecolor='black', bins=int(45/1))\n",
        "plt.xlabel('Age')\n",
        "plt.ylabel('NO of athlets')\n",
        "plt.title('Female')"
      ]
    },
    {
      "cell_type": "markdown",
      "id": "b151fc9e",
      "metadata": {
        "id": "b151fc9e"
      },
      "source": [
        "#### Are women athletes more aged than men on average? Which age group appears most in the Olympics?"
      ]
    },
    {
      "cell_type": "code",
      "execution_count": 8,
      "id": "f8a48556",
      "metadata": {
        "colab": {
          "base_uri": "https://localhost:8080/"
        },
        "id": "f8a48556",
        "outputId": "96a1f4f9-ef78-4e86-bd56-cb6d58136e75"
      },
      "outputs": [
        {
          "output_type": "stream",
          "name": "stdout",
          "text": [
            "men Are more aged than women in Olympic\t women average: 23.776674800354925\t men average: 26.32876350637745\n",
            "men appears more than women in Olympic\n"
          ]
        }
      ],
      "source": [
        "#======================================================\n",
        "#Your code here\n",
        "#======================================================\n",
        "\n",
        "if Women['Age'].mean()>Man['Age'].mean():\n",
        "  print(\"woman Are more aged than Men in Olympic\"+\"\\t women average: \"+str(Women['Age'].mean())+\"\\t men average: \"+str(Man['Age'].mean()))\n",
        "else:\n",
        "    print(\"men Are more aged than women in Olympic\"+\"\\t women average: \"+str(Women['Age'].mean())+\"\\t men average: \"+str(Man['Age'].mean()))\n",
        "\n",
        "if len(Women)>len(Man):\n",
        "  print(\"woman appears more than Men in Olympic\")\n",
        "else:\n",
        "    print(\"men appears more than women in Olympic\")"
      ]
    },
    {
      "cell_type": "markdown",
      "id": "41864524",
      "metadata": {
        "id": "41864524"
      },
      "source": [
        "**Your answer :**"
      ]
    },
    {
      "cell_type": "markdown",
      "source": [
        "men are more aged and more appears in Olimpyc"
      ],
      "metadata": {
        "id": "nW0tj3hnNK7v"
      },
      "id": "nW0tj3hnNK7v"
    },
    {
      "cell_type": "markdown",
      "id": "cbad0f40",
      "metadata": {
        "id": "cbad0f40"
      },
      "source": [
        "# Winner winner chicken dinner!"
      ]
    },
    {
      "cell_type": "markdown",
      "id": "052e591d",
      "metadata": {
        "id": "052e591d"
      },
      "source": [
        "### What are the top 10 countries with more athlete appearance in the Olympics across all time? Create a Pie chart."
      ]
    },
    {
      "cell_type": "code",
      "execution_count": 9,
      "id": "9b1b93df",
      "metadata": {
        "colab": {
          "base_uri": "https://localhost:8080/",
          "height": 423
        },
        "id": "9b1b93df",
        "outputId": "952dd5b6-6d29-4117-d451-0768db8f7c1f"
      },
      "outputs": [
        {
          "output_type": "stream",
          "name": "stdout",
          "text": [
            "['United States', 'France', 'Italy', 'Great Britain', 'Canada', 'Australia', 'Sweden', 'Germany', 'Spain', 'Brazil']\n"
          ]
        },
        {
          "output_type": "display_data",
          "data": {
            "text/plain": [
              "<Figure size 640x480 with 1 Axes>"
            ],
            "image/png": "[encoded data removed]"
          },
          "metadata": {}
        }
      ],
      "source": [
        "#======================================================\n",
        "#Your code here\n",
        "#======================================================\n",
        "n = 10\n",
        "list_countery=df['Team'].value_counts()[:n].index.tolist()\n",
        "sums=[]\n",
        "print(list_countery)\n",
        "for i in list_countery:\n",
        "  sumi=sum(df['Team']== i)\n",
        "  sums.append(sumi)\n",
        "\n",
        "plt.pie(sums, labels = list_countery)\n",
        "plt.show()\n"
      ]
    },
    {
      "cell_type": "markdown",
      "id": "d190ffd4",
      "metadata": {
        "id": "d190ffd4"
      },
      "source": [
        "###  Now we want to consider amother feature simultaenously. What are the top 10 medal-winning countries across all time? (You can apply coefficients to distinguish gold, silver and bronze medals)"
      ]
    },
    {
      "cell_type": "code",
      "execution_count": 10,
      "id": "f3c9cab6",
      "metadata": {
        "colab": {
          "base_uri": "https://localhost:8080/",
          "height": 461
        },
        "id": "f3c9cab6",
        "outputId": "b82d7e60-9a9c-4a5d-f981-1f67f2ec2f36"
      },
      "outputs": [
        {
          "output_type": "stream",
          "name": "stderr",
          "text": [
            "<ipython-input-10-293372a62b1e>:11: FutureWarning: The default value of numeric_only in DataFrameGroupBy.sum is deprecated. In a future version, numeric_only will default to False. Either specify numeric_only or select only columns which should be valid for the function.\n",
            "  newdf=df3.groupby(['Team']).sum().sort_values('Medal' ,ascending=False).head(10)\n"
          ]
        },
        {
          "output_type": "display_data",
          "data": {
            "text/plain": [
              "<Figure size 640x480 with 1 Axes>"
            ],
            "image/png": "[encoded data removed]"
          },
          "metadata": {}
        }
      ],
      "source": [
        "#======================================================\n",
        "#Your code here\n",
        "#======================================================\n",
        "#df.groupby(['Medal'])\n",
        "#df\n",
        "df3 = df.copy()\n",
        "df3=df3[df3['Medal']!='none']\n",
        "df3= df3.replace(['Gold'], 3)\n",
        "df3= df3.replace(['Bronze'], 1)\n",
        "df3= df3.replace(['Silver'], 2)\n",
        "newdf=df3.groupby(['Team']).sum().sort_values('Medal' ,ascending=False).head(10)\n",
        "plt.pie(newdf['Medal'], labels = newdf.index.tolist())\n",
        "plt.show()"
      ]
    },
    {
      "cell_type": "markdown",
      "id": "26afdcb0",
      "metadata": {
        "id": "26afdcb0"
      },
      "source": [
        "### (Optional) Create a video with each frame consisting of a bar chart with the horizontal axis representing the top 10 countries and the vertical axis their count of their won medals. The countries must be sorted in a descending order!"
      ]
    },
    {
      "cell_type": "code",
      "execution_count": 11,
      "id": "0a5d3929",
      "metadata": {
        "colab": {
          "base_uri": "https://localhost:8080/"
        },
        "id": "0a5d3929",
        "outputId": "73e67760-bc3a-42be-b8b0-ac0bf7b04025"
      },
      "outputs": [
        {
          "output_type": "stream",
          "name": "stderr",
          "text": [
            "<ipython-input-11-ce9118555cc1>:17: FutureWarning: The default value of numeric_only in DataFrameGroupBy.sum is deprecated. In a future version, numeric_only will default to False. Either specify numeric_only or select only columns which should be valid for the function.\n",
            "  newdf=df3.groupby(['Team','Year']).sum()\n",
            "<ipython-input-11-ce9118555cc1>:31: FutureWarning: Passing a set as an indexer is deprecated and will raise in a future version. Use a list instead.\n",
            "  newdf1 = newdf1[top_prem_clubs]\n",
            "/usr/local/lib/python3.10/dist-packages/bar_chart_race/_make_chart.py:284: UserWarning: Glyph 127 () missing from current font.\n",
            "  fig.canvas.print_figure(io.BytesIO())\n",
            "/usr/local/lib/python3.10/dist-packages/bar_chart_race/_make_chart.py:284: UserWarning: Glyph 128 (\\x80) missing from current font.\n",
            "  fig.canvas.print_figure(io.BytesIO())\n",
            "/usr/local/lib/python3.10/dist-packages/bar_chart_race/_make_chart.py:284: UserWarning: Glyph 129 (\\x81) missing from current font.\n",
            "  fig.canvas.print_figure(io.BytesIO())\n",
            "/usr/local/lib/python3.10/dist-packages/bar_chart_race/_make_chart.py:284: UserWarning: Glyph 130 (\\x82) missing from current font.\n",
            "  fig.canvas.print_figure(io.BytesIO())\n",
            "/usr/local/lib/python3.10/dist-packages/bar_chart_race/_make_chart.py:286: UserWarning: FixedFormatter should only be used together with FixedLocator\n",
            "  ax.set_yticklabels(self.df_values.columns)\n",
            "/usr/local/lib/python3.10/dist-packages/bar_chart_race/_make_chart.py:287: UserWarning: FixedFormatter should only be used together with FixedLocator\n",
            "  ax.set_xticklabels([max_val] * len(ax.get_xticks()))\n"
          ]
        }
      ],
      "source": [
        "#======================================================\n",
        "#Your code here\n",
        "#======================================================\n",
        "Years=list(set(df3['Year']))\n",
        "\n",
        "#for i in Years:\n",
        " # newdf=df3[df3['Year']==i]\n",
        " # new_df=newdf.groupby(['Team']).sum().sort_values('Medal' ,ascending=False).head(10)\n",
        "  #print(len(new_df))\n",
        "  #plt.bar(new_df.index.tolist(), newdf['Medal'], color ='maroon', width = 0.4)\n",
        "\n",
        "  #plt.xlabel(\"countery\")\n",
        "  #plt.ylabel(\"No. of Medal\")\n",
        " # plt.title(\"barchart\")\n",
        "  #ani = FuncAnimation(fig, animate, interval=100)\n",
        "\n",
        "newdf=df3.groupby(['Team','Year']).sum()\n",
        "newdf=newdf[['Medal']]\n",
        "newdf1=newdf.reset_index()\n",
        "\n",
        "#newdf1=newdf[['Year','Team','Medal']]\n",
        "#newdf1.head()\n",
        "newdf1 = newdf.pivot_table(values = 'Medal',index = ['Year'],columns = 'Team')\n",
        "newdf1.fillna(0, inplace=True)\n",
        "newdf1.sort_values(list(newdf1.columns),inplace=True)\n",
        "newdf1 = newdf1.sort_index()\n",
        "\n",
        "top_prem_clubs = set()\n",
        "for index, row in newdf1.iterrows():\n",
        "    top_prem_clubs |= set(row[row > 0].sort_values(ascending=False).head(10).index)\n",
        "newdf1 = newdf1[top_prem_clubs]\n",
        "\n",
        "bcr.bar_chart_race(df = newdf1,\n",
        "                   n_bars = 10,\n",
        "                   sort='desc',\n",
        "                   title='Top 10 country in Olimpyc',\n",
        "                   filename = 'pl_country.mp4')\n",
        "\n",
        "#you can download the video"
      ]
    },
    {
      "cell_type": "markdown",
      "id": "51c6a499",
      "metadata": {
        "id": "51c6a499"
      },
      "source": [
        "# Feature vs. Feature!"
      ]
    },
    {
      "cell_type": "markdown",
      "id": "d9ceb62c",
      "metadata": {
        "id": "d9ceb62c"
      },
      "source": [
        "### Once more the histograms! Create a histrogram chart representing the age disributions but this time for medal-winning athletes only."
      ]
    },
    {
      "cell_type": "code",
      "execution_count": 12,
      "id": "951c681f",
      "metadata": {
        "colab": {
          "base_uri": "https://localhost:8080/",
          "height": 1000
        },
        "id": "951c681f",
        "outputId": "7d884de7-da03-4a26-b3fa-87c3d261aed6"
      },
      "outputs": [
        {
          "output_type": "execute_result",
          "data": {
            "text/plain": [
              "Text(0.5, 1.0, 'Bronze Medal')"
            ]
          },
          "metadata": {},
          "execution_count": 12
        },
        {
          "output_type": "display_data",
          "data": {
            "text/plain": [
              "<Figure size 640x480 with 1 Axes>"
            ],
            "image/png": "[encoded data removed]"
          },
          "metadata": {}
        },
        {
          "output_type": "display_data",
          "data": {
            "text/plain": [
              "<Figure size 640x480 with 1 Axes>"
            ],
            "image/png": "[encoded data removed]"
          },
          "metadata": {}
        },
        {
          "output_type": "display_data",
          "data": {
            "text/plain": [
              "<Figure size 640x480 with 1 Axes>"
            ],
            "image/png": "[encoded data removed]"
          },
          "metadata": {}
        }
      ],
      "source": [
        "#======================================================\n",
        "#Your code here\n",
        "#======================================================\n",
        "\n",
        "bronze=df.loc[df['Medal'] == 'Bronze']\n",
        "silver=df.loc[df['Medal'] == 'Silver']\n",
        "gold=df.loc[df['Medal'] == 'Gold']\n",
        "\n",
        "#hist1=Man['Age'].hist()\n",
        "#hist2=Women['Age'].hist()\n",
        "plt.figure(\"Welcome to figure 1\")\n",
        "plt.hist(bronze['Age'], color='blue', edgecolor='black', bins=int(45/1))\n",
        "plt.xlabel('Age')\n",
        "plt.ylabel('NO of athlets')\n",
        "plt.title('Bronze Medal')\n",
        "\n",
        "\n",
        "\n",
        "plt.figure(\"Welcome to figure 2\")\n",
        "plt.hist(silver['Age'], color='blue', edgecolor='black', bins=int(45/1))\n",
        "plt.xlabel('Age')\n",
        "plt.ylabel('NO of athlets')\n",
        "plt.title('Bronze Medal')\n",
        "\n",
        "plt.figure(\"Welcome to figure 3\")\n",
        "plt.hist(gold['Age'], color='blue', edgecolor='black', bins=int(45/1))\n",
        "plt.xlabel('Age')\n",
        "plt.ylabel('NO of athlets')\n",
        "plt.title('Bronze Medal')"
      ]
    },
    {
      "cell_type": "markdown",
      "id": "3f1aa57e",
      "metadata": {
        "id": "3f1aa57e"
      },
      "source": [
        "### Is there any correlation between winning a medal and the age? You need to prepare the data furthermore! For example, take 1 for athletes with a medal and 0 for those without any. Calculate the correleation between these two features!"
      ]
    },
    {
      "cell_type": "code",
      "execution_count": 13,
      "id": "324b6078",
      "metadata": {
        "colab": {
          "base_uri": "https://localhost:8080/"
        },
        "id": "324b6078",
        "outputId": "b4a1975d-9d0c-4547-aaba-06c152ad9e81"
      },
      "outputs": [
        {
          "output_type": "stream",
          "name": "stdout",
          "text": [
            "[[1.         0.02566923]\n",
            " [0.02566923 1.        ]]\n"
          ]
        }
      ],
      "source": [
        "#======================================================\n",
        "#Your code here\n",
        "#======================================================\n",
        "df3= df.copy()\n",
        "\n",
        "df3= df3.replace(['Gold','Silver','Bronze'], 1)\n",
        "df3= df3.replace(['none'], 0)\n",
        "ages=df3['Age']\n",
        "medals=df3['Medal']\n",
        "my_rho = np.corrcoef(ages,medals)\n",
        "print(my_rho)"
      ]
    },
    {
      "cell_type": "markdown",
      "id": "5e3fbb53",
      "metadata": {
        "id": "5e3fbb53"
      },
      "source": [
        "**Your answer :**"
      ]
    },
    {
      "cell_type": "markdown",
      "source": [
        "because of low correlation between them so they are not much related."
      ],
      "metadata": {
        "id": "ElR8x1UPM-Z_"
      },
      "id": "ElR8x1UPM-Z_"
    },
    {
      "cell_type": "markdown",
      "id": "e37f135e",
      "metadata": {
        "id": "e37f135e"
      },
      "source": [
        "### (Optional) If your familiar with the concepts of linear algebra, carry out a principal component analysis (PCA) to determine the features with more effect in winning a medal. These features include the sex, age, height and weight. (Keep in mind that some weight and height records are NaN!)"
      ]
    },
    {
      "cell_type": "code",
      "execution_count": 14,
      "id": "2938f3ce",
      "metadata": {
        "colab": {
          "base_uri": "https://localhost:8080/",
          "height": 553
        },
        "id": "2938f3ce",
        "outputId": "0d496383-546b-4a4f-8754-eaf237c734ae"
      },
      "outputs": [
        {
          "output_type": "stream",
          "name": "stdout",
          "text": [
            "             PC0       PC1       PC2       PC3       PC4\n",
            "Sex     0.491240 -0.208271 -0.073322 -0.842104 -0.028107\n",
            "Age     0.224136  0.010169  0.970643  0.046168 -0.073347\n",
            "Height  0.585410  0.027581 -0.205320  0.375518 -0.688015\n",
            "Weight  0.599700  0.012556 -0.099857  0.331344  0.721417\n",
            "Medal   0.078109  0.977549 -0.018643 -0.194746  0.004920\n"
          ]
        },
        {
          "output_type": "display_data",
          "data": {
            "text/plain": [
              "<Figure size 640x480 with 1 Axes>"
            ],
            "image/png": "[encoded data removed]"
          },
          "metadata": {}
        }
      ],
      "source": [
        "#======================================================\n",
        "#Your code here\n",
        "#======================================================\n",
        "new_df=df3[['Sex','Age',\t'Height',\t'Weight',\t'Medal']]\n",
        "new_df=new_df.replace(['M'],1)\n",
        "new_df=new_df.replace(['F'],0)\n",
        "new_df =new_df.dropna()\n",
        "df_normalized=(new_df - new_df.mean()) / new_df.std()\n",
        "pca = PCA(n_components=5)\n",
        "pca.fit(df_normalized)\n",
        "\n",
        "# Reformat and view results\n",
        "loadings = pd.DataFrame(pca.components_.T,\n",
        "columns=['PC%s' % _ for _ in range(len(df_normalized.columns))],\n",
        "index=new_df.columns)\n",
        "print(loadings)\n",
        "\n",
        "plt.plot(pca.explained_variance_ratio_)\n",
        "plt.ylabel('Explained Variance')\n",
        "plt.xlabel('Components')\n",
        "plt.show()"
      ]
    },
    {
      "cell_type": "markdown",
      "id": "1e2647bf",
      "metadata": {
        "id": "1e2647bf"
      },
      "source": [
        "# Finally, the hypotheses!"
      ]
    },
    {
      "cell_type": "markdown",
      "id": "890dde2e",
      "metadata": {
        "id": "890dde2e"
      },
      "source": [
        "### In the last part we are going to introduce some hypotheses of our own about the data! Feel free to try out any statistical test that you deem appropriate and analyze our hypothses!"
      ]
    },
    {
      "cell_type": "markdown",
      "id": "1ff3b838",
      "metadata": {
        "id": "1ff3b838"
      },
      "source": [
        "## Hypothesis : Men athletes are more aged than women in general"
      ]
    },
    {
      "cell_type": "markdown",
      "id": "8b493bdd",
      "metadata": {
        "id": "8b493bdd"
      },
      "source": [
        "### suggested method : t-test or Mann-Whitney U test"
      ]
    },
    {
      "cell_type": "code",
      "execution_count": 15,
      "id": "5e86a01f",
      "metadata": {
        "colab": {
          "base_uri": "https://localhost:8080/"
        },
        "id": "5e86a01f",
        "outputId": "8231ab31-b896-494c-9649-9f11b753264c"
      },
      "outputs": [
        {
          "output_type": "stream",
          "name": "stdout",
          "text": [
            "There is a significant difference between the means of Age of Man and Women. and because average age for man is higher than for women so mens are more Aged\n"
          ]
        }
      ],
      "source": [
        "#======================================================\n",
        "#Your code here\n",
        "#======================================================\n",
        "Man=df.loc[df['Sex'] == 'M']\n",
        "Women=df.loc[df['Sex'] == 'F']\n",
        "t_stat, p_value = ttest_ind(Man[['Age']],Women[['Age']])\n",
        "\n",
        "if p_value < 0.05:\n",
        "    print(\"There is a significant difference between the means of Age of Man and Women. and because average age for man is higher than for women so mens are more Aged\")\n",
        "else:\n",
        "    print(\"There is no significant difference between the means of Age of Man and Women. so we cannot say man are aged than women\")"
      ]
    },
    {
      "cell_type": "markdown",
      "id": "e6506c0a",
      "metadata": {
        "id": "e6506c0a"
      },
      "source": [
        "## Hypothesis : African countries win more medals than others"
      ]
    },
    {
      "cell_type": "markdown",
      "id": "4fb692e0",
      "metadata": {
        "id": "4fb692e0"
      },
      "source": [
        "#### Countries are known based on their NOC in olympic. You may find a list of African NOCs in the file \"African_NOC.csv\"."
      ]
    },
    {
      "cell_type": "markdown",
      "id": "6c33e0ca",
      "metadata": {
        "id": "6c33e0ca"
      },
      "source": [
        "### Suggested method : Pearson/Spearman correlation analysis"
      ]
    },
    {
      "cell_type": "code",
      "execution_count": 44,
      "id": "b09e85e2",
      "metadata": {
        "colab": {
          "base_uri": "https://localhost:8080/"
        },
        "id": "b09e85e2",
        "outputId": "d0fd2762-aa4f-451f-ae9e-795903712fbd"
      },
      "outputs": [
        {
          "output_type": "stream",
          "name": "stdout",
          "text": [
            "            is_african     Medal\n",
            "is_african    1.000000  0.035519\n",
            "Medal         0.035519  1.000000\n"
          ]
        },
        {
          "output_type": "stream",
          "name": "stderr",
          "text": [
            "<ipython-input-44-33a5e9d6128c>:14: FutureWarning: The default value of numeric_only in DataFrameGroupBy.sum is deprecated. In a future version, numeric_only will default to False. Either specify numeric_only or select only columns which should be valid for the function.\n",
            "  newAfrican=df_African.groupby(['Team']).sum().reset_index()\n",
            "<ipython-input-44-33a5e9d6128c>:15: FutureWarning: The default value of numeric_only in DataFrameGroupBy.sum is deprecated. In a future version, numeric_only will default to False. Either specify numeric_only or select only columns which should be valid for the function.\n",
            "  newNotAfrican=df_NotAfrican.groupby(['Team']).sum().reset_index()\n"
          ]
        }
      ],
      "source": [
        "#======================================================\n",
        "#Your code here\n",
        "#======================================================\n",
        "df3 = df.copy()\n",
        "df3=df3[df3['Medal']!='none']\n",
        "df3= df3.replace(['Gold'], 3)\n",
        "df3= df3.replace(['Bronze'], 1)\n",
        "df3= df3.replace(['Silver'], 2)\n",
        "\n",
        "dfA= pd.read_csv('./African_NOC.csv', index_col=0)\n",
        "\n",
        "df_African=df3[df3['NOC'].isin(dfA.index.tolist()) ]\n",
        "df_NotAfrican=df3[~df3['NOC'].isin(dfA.index.tolist()) ]\n",
        "newAfrican=df_African.groupby(['Team']).sum().reset_index()\n",
        "newNotAfrican=df_NotAfrican.groupby(['Team']).sum().reset_index()\n",
        "newAfrican['is_african']=2*np.ones(len(newAfrican))\n",
        "newNotAfrican['is_african']=np.ones(len(newNotAfrican))\n",
        "\n",
        "\n",
        "df_concat = pd.concat([newAfrican, newNotAfrican], axis=0)\n",
        "df_concat = df_concat[[\"is_african\",'Medal']]\n",
        "\n",
        "#newdf=df3.groupby(['Team']).sum()\n",
        "#newdf1=newdf.reset_index()\n",
        "corr_matrix = df_concat.corr(method='spearman')\n",
        "\n",
        "print(corr_matrix)\n"
      ]
    },
    {
      "cell_type": "markdown",
      "source": [
        "correlation between african and medal is near zero so HP is not true"
      ],
      "metadata": {
        "id": "tJxCPLOwYZYt"
      },
      "id": "tJxCPLOwYZYt"
    },
    {
      "cell_type": "markdown",
      "id": "9fddcb1a",
      "metadata": {
        "id": "9fddcb1a"
      },
      "source": [
        "## Hypothesis : The average age of Olympic atheles has decreased over the decades"
      ]
    },
    {
      "cell_type": "markdown",
      "id": "91a32575",
      "metadata": {
        "id": "91a32575"
      },
      "source": [
        "### Suggested method : ANOVA"
      ]
    },
    {
      "cell_type": "code",
      "execution_count": 67,
      "id": "ad1ced98",
      "metadata": {
        "colab": {
          "base_uri": "https://localhost:8080/"
        },
        "id": "ad1ced98",
        "outputId": "10f52414-45f6-435f-ec81-4a4baf51ec39"
      },
      "outputs": [
        {
          "output_type": "stream",
          "name": "stdout",
          "text": [
            "1896\n",
            "2016\n"
          ]
        },
        {
          "output_type": "execute_result",
          "data": {
            "text/plain": [
              "F_onewayResult(statistic=397.7965821123078, pvalue=0.0)"
            ]
          },
          "metadata": {},
          "execution_count": 67
        }
      ],
      "source": [
        "#======================================================\n",
        "#Your code here\n",
        "#======================================================\n",
        "years=list(set(df['Year']))\n",
        "print(min(years))\n",
        "print(max(years))\n",
        "list_of_lists=[]\n",
        "\n",
        "for i in [1890,1900,1910,1920,1930,1940,1950,1960,1970,1980,1990,2000,2010]:\n",
        "\n",
        "  this_year=df[df['Year']==i]\n",
        "  for j in [i,i+1,i+2,i+3,i+4,i+5,i+6,i+7,i+8,i+9]:\n",
        "    this_year = pd.concat([this_year, df[df['Year']==j]], axis=0)\n",
        "  this_year.describe()\n",
        "  list_of_lists.append(list(this_year['Age']))\n",
        "f_oneway(list_of_lists[0],list_of_lists[1],list_of_lists[2],list_of_lists[3],list_of_lists[4],list_of_lists[5],list_of_lists[6],list_of_lists[7],list_of_lists[8],list_of_lists[9],list_of_lists[10],list_of_lists[11],list_of_lists[12])"
      ]
    },
    {
      "cell_type": "markdown",
      "source": [
        "as you can see p value is 0 so the means are equal and HP is wrong."
      ],
      "metadata": {
        "id": "wW9KTdgVqWwG"
      },
      "id": "wW9KTdgVqWwG"
    },
    {
      "cell_type": "markdown",
      "id": "5d6cf963",
      "metadata": {
        "id": "5d6cf963"
      },
      "source": [
        "# Hope you enjoy\n",
        "# AIvengers team"
      ]
    }
  ],
  "metadata": {
    "kernelspec": {
      "display_name": "Python 3 (ipykernel)",
      "language": "python",
      "name": "python3"
    },
    "language_info": {
      "codemirror_mode": {
        "name": "ipython",
        "version": 3
      },
      "file_extension": ".py",
      "mimetype": "text/x-python",
      "name": "python",
      "nbconvert_exporter": "python",
      "pygments_lexer": "ipython3",
      "version": "3.11.0"
    },
    "colab": {
      "provenance": [],
      "include_colab_link": true
    }
  },
  "nbformat": 4,
  "nbformat_minor": 5
}